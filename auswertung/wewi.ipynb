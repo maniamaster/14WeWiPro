{
 "metadata": {
  "name": ""
 },
 "nbformat": 3,
 "nbformat_minor": 0,
 "worksheets": [
  {
   "cells": [
    {
     "cell_type": "code",
     "collapsed": false,
     "input": [
      "import maabara as ma\n",
      "import numpy as np\n",
      "import scipy as sp\n",
      "import sympy as sym\n",
      "import matplotlib as mpl \n",
      "import matplotlib.pyplot as plt\n",
      "import math\n",
      "\n",
      "#latex formatting:\n",
      "def latex_float(f):\n",
      "    float_str = \"{0:.2g}\".format(f)\n",
      "    if \"e\" in float_str:\n",
      "        base, exponent = float_str.split(\"e\")\n",
      "        return r\"{0} \\times 10^{{{1}}}\".format(base, int(exponent))\n",
      "    else:\n",
      "        return float_str"
     ],
     "language": "python",
     "metadata": {},
     "outputs": [],
     "prompt_number": 1
    },
    {
     "cell_type": "code",
     "collapsed": false,
     "input": [
      "###Auswertung1:\n",
      "daten=np.loadtxt(\"messung3.dat\")\n",
      "daten2=[1,1,1e-3,1,1,1,1e-3,1]*daten\n",
      "#daten2=daten2+[0,0,0,0,0,0,0.27e-3,0]\n",
      "z0=ma.uncertainty.Sheet(\"(U/B)**2\",\"Z_0^2\")\n",
      "z0.set_value(\"B\",tex='I')\n",
      "#z0.set_value(\"U\",error=0.01)\n",
      "Impedanzquadrat=z0.batch(daten2,'*|U|B|*|*|U%|B%|*')\n",
      "f=ma.uncertainty.Sheet(\"4*pi**2*f**2\",\"\\omega^2\")\n",
      "Kreisfrequenzquadrat=f.batch(daten2,'f|*|*|*|f%|*|*|*')\n",
      "\n",
      "#Plot1:\n",
      "plt.clf()\n",
      "plt.figure(1)\n",
      "mpl.rcParams['text.usetex']=True\n",
      "mpl.rcParams['text.latex.unicode']=True\n",
      "plt.ticklabel_format(style='sci', axis='both', scilimits=(-3,3))\n",
      "\n",
      "#lineare Regression:\n",
      "m,b,tex=ma.data.linear_fit(Kreisfrequenzquadrat[:,0],Impedanzquadrat[:,0],Impedanzquadrat[:,1])\n",
      "x=np.linspace(0,max(Kreisfrequenzquadrat[:,0]+100))\n",
      "y=m.n*x+b.n\n",
      "#tex='r(x) = 0.163(5) \\\\cdot x + 6(3) \\\\times 10^{3}'\n",
      "plt.plot(x,y,\"b-\",label=\"$\"+tex+\"$\")\n",
      "plt.errorbar(Kreisfrequenzquadrat[:,0],Impedanzquadrat[:,0],Impedanzquadrat[:,1],Kreisfrequenzquadrat[:,1],'ro',markersize=3,label='Messwerte')\n",
      "plt.xlabel(r'Quadrat der Kreisfrequenz $\\omega^2~$[Hz$^2$]')\n",
      "plt.ylabel(r'Quadrat der Impedanz $Z_0^2~$[$\\Omega^2$]')\n",
      "plt.legend(loc=2)\n",
      "plt.savefig(\"plot1.pdf\",transparent=True,format=\"pdf\",bbox_inches='tight')\n"
     ],
     "language": "python",
     "metadata": {},
     "outputs": [
      {
       "output_type": "stream",
       "stream": "stdout",
       "text": [
        "results of linear_fit:\n",
        "   chi squared =  0.584947441398\n",
        "   degrees of freedom =  8\n",
        "   reduced chi squared =  0.0731184301748\n"
       ]
      }
     ],
     "prompt_number": 26
    },
    {
     "cell_type": "code",
     "collapsed": false,
     "input": [
      "test=ma.uncertainty.Sheet('x**(0.5)','T')\n",
      "test.v('x',3,3)\n",
      "test.p()"
     ],
     "language": "python",
     "metadata": {},
     "outputs": [
      {
       "latex": [
        "$$T=x^{0.5}$$"
       ],
       "metadata": {},
       "output_type": "display_data",
       "text": [
        "<IPython.core.display.Math at 0x7f9029283110>"
       ]
      },
      {
       "output_type": "stream",
       "stream": "stdout",
       "text": [
        "T=x^{0.5}\n",
        "\n"
       ]
      },
      {
       "latex": [
        "$$T=1.7 \\pm 0.9$$"
       ],
       "metadata": {},
       "output_type": "display_data",
       "text": [
        "<IPython.core.display.Math at 0x7f9029283110>"
       ]
      },
      {
       "output_type": "stream",
       "stream": "stdout",
       "text": [
        "T=1.7 \\pm 0.9\n",
        "\n"
       ]
      },
      {
       "latex": [
        "$$\\sigma_{T}=\\frac{0.5}{x^{0.5}} \\cdot \\sigma_{x}$$"
       ],
       "metadata": {},
       "output_type": "display_data",
       "text": [
        "<IPython.core.display.Math at 0x7f9029283110>"
       ]
      },
      {
       "output_type": "stream",
       "stream": "stdout",
       "text": [
        "\\sigma_{T}=\\frac{0.5}{x^{0.5}} \\cdot \\sigma_{x}\n",
        "\n"
       ]
      },
      {
       "metadata": {},
       "output_type": "pyout",
       "prompt_number": 31,
       "text": [
        "1.7320508075688772+/-0.8660254037844386"
       ]
      }
     ],
     "prompt_number": 31
    },
    {
     "cell_type": "code",
     "collapsed": false,
     "input": [
      "#Berechnung von R und L:\n",
      "L=m**(0.5)\n",
      "R=b**(0.5)\n",
      "\n",
      "L,R"
     ],
     "language": "python",
     "metadata": {},
     "outputs": [
      {
       "metadata": {},
       "output_type": "pyout",
       "prompt_number": 3,
       "text": [
        "(0.40426542862166376+/-0.0065665130864476125,\n",
        " 76.4472570377945+/-17.860599517106145)"
       ]
      }
     ],
     "prompt_number": 3
    },
    {
     "cell_type": "code",
     "collapsed": false,
     "input": [
      "###Auswertung2':\n",
      "serie1=np.loadtxt(\"messung4.dat\")\n",
      "serie=[1,1,1e-3,1e-3]*serie1\n",
      "serie=serie+[0,0,0,0.27e-3]\n",
      "f2=ma.uncertainty.Sheet(\"2*pi*f\",\"\\omega\")\n",
      "f2.set_value('f', error=1) \n",
      "#Berechnung von omega^2:\n",
      "omega=f2.batch(serie,'f|*|*|*')\n",
      "#Berechnung von z_o^2:\n",
      "z02=ma.uncertainty.Sheet(\"U/B\",\"Z_0\")\n",
      "z02.set_value('U',error=0.1)\n",
      "z02.set_value('B',tex='I')\n",
      "imped=z02.batch(serie,'*|U|B|B%')\n",
      "#Plotten:\n",
      "plt.clf()\n",
      "plt.figure(2)\n",
      "mpl.rcParams['text.usetex']=True\n",
      "mpl.rcParams['text.latex.unicode']=True\n",
      "plt.ticklabel_format(style='sci', axis='both', scilimits=(-3,3))\n",
      "plt.xlabel(r'Kreisfrequenz $\\omega~$[Hz]')\n",
      "plt.ylabel(r'Impedanz $Z_0~$[$\\Omega$]')\n",
      "\n",
      "\n",
      "#Theoriekurve:\n",
      "#x=np.linspace(300,2800)\n",
      "impedtheorie=((100)**2+(0.405*x-(1/(x*2.193e-6)))**2)**(0.5)\n",
      "\n",
      "#Theoriekurve fitten:\n",
      "def theo(x,a,b,c):\n",
      "    return (a**2+(b*x-(1/(x*c)))**2)**(0.5)\n",
      "popt1, pcov1=sp.optimize.curve_fit(theo,omega[:,0],imped[:,0],[88,0.4,2e-6],imped[:,1])\n",
      "variance = np.diagonal(pcov1) #Diagonalelemente der Covarianzmatrix\n",
      "SE = np.sqrt(variance) #Wurzel der Varianz = Standardabweichung\n",
      "#tex=\"r(x)=\\\\sqrt{\"+\"{:.2g}\".format(popt[0])+\"^2+\\\\left(x\\\\cdot \"+\"{:.2g}\".format(popt[1])+\"-\\\\frac{1}{x \"+\"{:.2g}\".format(popt[2])+\"}\\\\right)^2}\"\n",
      "x=np.linspace(500,3000,1000)\n",
      "plt.plot(x,theo(x,*popt1),label=\"$r(x)=\\\\sqrt{R^2+\\\\left(x\\\\cdot L-\\\\frac{1}{x\\\\cdot C}\\\\right)^2}$\")\n",
      "plt.errorbar(omega[:,0],imped[:,0],imped[:,1],omega[:,1],'ro',markersize=1,label='Messwerte')\n",
      "plt.legend(loc=2)\n",
      "plt.text(2e3, 180, r'$R=83.4(3)~\\Omega$')\n",
      "plt.text(2e3, 120, r'$L=0.403(2)~$H')\n",
      "plt.text(2e3, 60, r'$C=1.800(7)\\times 10^{-6}~$F')\n",
      "\n",
      "plt.savefig(\"plot2.pdf\",transparent=True,format=\"pdf\",bbox_inches='tight')"
     ],
     "language": "python",
     "metadata": {},
     "outputs": [],
     "prompt_number": 35
    },
    {
     "cell_type": "code",
     "collapsed": false,
     "input": [
      "f2.p()"
     ],
     "language": "python",
     "metadata": {},
     "outputs": [
      {
       "latex": [
        "$$\\omega=2 \\cdot \\pi \\cdot f$$"
       ],
       "metadata": {},
       "output_type": "display_data",
       "text": [
        "<IPython.core.display.Math at 0x7f902ad17610>"
       ]
      },
      {
       "output_type": "stream",
       "stream": "stdout",
       "text": [
        "\\omega=2 \\cdot \\pi \\cdot f\n",
        "\n"
       ]
      },
      {
       "latex": [
        "$$\\omega=1363.5 \\pm 6.3$$"
       ],
       "metadata": {},
       "output_type": "display_data",
       "text": [
        "<IPython.core.display.Math at 0x7f902ad17610>"
       ]
      },
      {
       "output_type": "stream",
       "stream": "stdout",
       "text": [
        "\\omega=1363.5 \\pm 6.3\n",
        "\n"
       ]
      },
      {
       "latex": [
        "$$\\sigma_{\\omega}=2 \\cdot \\pi \\cdot \\sigma_{f}$$"
       ],
       "metadata": {},
       "output_type": "display_data",
       "text": [
        "<IPython.core.display.Math at 0x7f902ad17610>"
       ]
      },
      {
       "output_type": "stream",
       "stream": "stdout",
       "text": [
        "\\sigma_{\\omega}=2 \\cdot \\pi \\cdot \\sigma_{f}\n",
        "\n"
       ]
      },
      {
       "metadata": {},
       "output_type": "pyout",
       "prompt_number": 34,
       "text": [
        "1363.4512116579704+/-6.283185307179586"
       ]
      }
     ],
     "prompt_number": 34
    },
    {
     "cell_type": "code",
     "collapsed": false,
     "input": [
      "z02.p()"
     ],
     "language": "python",
     "metadata": {},
     "outputs": [
      {
       "latex": [
        "$$Z_0=\\frac{U}{I}$$"
       ],
       "metadata": {},
       "output_type": "display_data",
       "text": [
        "<IPython.core.display.Math at 0x7f902850a690>"
       ]
      },
      {
       "output_type": "stream",
       "stream": "stdout",
       "text": [
        "Z_0=\\frac{U}{I}\n",
        "\n"
       ]
      },
      {
       "latex": [
        "$$Z_0=162.2 \\pm 3.8$$"
       ],
       "metadata": {},
       "output_type": "display_data",
       "text": [
        "<IPython.core.display.Math at 0x7f902a2cb890>"
       ]
      },
      {
       "output_type": "stream",
       "stream": "stdout",
       "text": [
        "Z_0=162.2 \\pm 3.8\n",
        "\n"
       ]
      },
      {
       "latex": [
        "$$\\sigma_{Z_0}=\\frac{1}{I^{2}} \\cdot \\sqrt{I^{2} \\cdot \\sigma_{U}^{2} + U^{2} \\cdot \\sigma_{I}^{2}}$$"
       ],
       "metadata": {},
       "output_type": "display_data",
       "text": [
        "<IPython.core.display.Math at 0x7f902a2cb890>"
       ]
      },
      {
       "output_type": "stream",
       "stream": "stdout",
       "text": [
        "\\sigma_{Z_0}=\\frac{1}{I^{2}} \\cdot \\sqrt{I^{2} \\cdot \\sigma_{U}^{2} + U^{2} \\cdot \\sigma_{I}^{2}}\n",
        "\n"
       ]
      },
      {
       "metadata": {},
       "output_type": "pyout",
       "prompt_number": 36,
       "text": [
        "162.2296173044925+/-3.8106077080695826"
       ]
      }
     ],
     "prompt_number": 36
    },
    {
     "cell_type": "code",
     "collapsed": false,
     "input": [
      "popt1"
     ],
     "language": "python",
     "metadata": {},
     "outputs": [
      {
       "metadata": {},
       "output_type": "pyout",
       "prompt_number": 6,
       "text": [
        "array([  8.33954628e+01,   4.03098111e-01,   1.79966350e-06])"
       ]
      }
     ],
     "prompt_number": 6
    },
    {
     "cell_type": "code",
     "collapsed": false,
     "input": [
      "pcov1"
     ],
     "language": "python",
     "metadata": {},
     "outputs": [
      {
       "metadata": {},
       "output_type": "pyout",
       "prompt_number": 7,
       "text": [
        "array([[  9.26575977e-02,  -1.94895190e-04,   8.46574399e-10],\n",
        "       [ -1.94895190e-04,   2.07041975e-06,  -8.98467337e-12],\n",
        "       [  8.46574399e-10,  -8.98467337e-12,   4.12832006e-17]])"
       ]
      }
     ],
     "prompt_number": 7
    },
    {
     "cell_type": "code",
     "collapsed": false,
     "input": [
      "SE"
     ],
     "language": "python",
     "metadata": {},
     "outputs": [
      {
       "metadata": {},
       "output_type": "pyout",
       "prompt_number": 8,
       "text": [
        "array([  3.04397105e-01,   1.43889532e-03,   6.42520044e-09])"
       ]
      }
     ],
     "prompt_number": 8
    },
    {
     "cell_type": "code",
     "collapsed": false,
     "input": [
      "resonanzfrequenz=ma.uncertainty.Sheet('(1/(L*C))**(0.5)','\\omega_{r,1}')\n",
      "resonanzfrequenz.v('L',popt1[1],SE[1])\n",
      "resonanzfrequenz.v('C',popt1[2],SE[2])\n",
      "resonanzfrequenz.p()"
     ],
     "language": "python",
     "metadata": {},
     "outputs": [
      {
       "latex": [
        "$$\\omega_{r,1}=\\left(\\frac{1}{C \\cdot L}\\right)^{0.5}$$"
       ],
       "metadata": {},
       "output_type": "display_data",
       "text": [
        "<IPython.core.display.Math at 0x7f90289cd350>"
       ]
      },
      {
       "output_type": "stream",
       "stream": "stdout",
       "text": [
        "\\omega_{r,1}=\\left(\\frac{1}{C \\cdot L}\\right)^{0.5}\n",
        "\n"
       ]
      },
      {
       "latex": [
        "$$\\omega_{r,1}=1174.1 \\pm 3.0$$"
       ],
       "metadata": {},
       "output_type": "display_data",
       "text": [
        "<IPython.core.display.Math at 0x7f90289cd350>"
       ]
      },
      {
       "output_type": "stream",
       "stream": "stdout",
       "text": [
        "\\omega_{r,1}=1174.1 \\pm 3.0\n",
        "\n"
       ]
      },
      {
       "latex": [
        "$$\\sigma_{\\omega_{r,1}}=\\frac{0.5}{C^{1.5} \\cdot L^{1.5}} \\cdot \\sqrt{C^{2} \\cdot \\sigma_{L}^{2} + L^{2} \\cdot \\sigma_{C}^{2}}$$"
       ],
       "metadata": {},
       "output_type": "display_data",
       "text": [
        "<IPython.core.display.Math at 0x7f90289cd350>"
       ]
      },
      {
       "output_type": "stream",
       "stream": "stdout",
       "text": [
        "\\sigma_{\\omega_{r,1}}=\\frac{0.5}{C^{1.5} \\cdot L^{1.5}} \\cdot \\sqrt{C^{2} \\cdot \\sigma_{L}^{2} + L^{2} \\cdot \\sigma_{C}^{2}}\n",
        "\n"
       ]
      },
      {
       "metadata": {},
       "output_type": "pyout",
       "prompt_number": 38,
       "text": [
        "1174.0834459949601+/-2.96374528198099"
       ]
      }
     ],
     "prompt_number": 38
    },
    {
     "cell_type": "code",
     "collapsed": false,
     "input": [
      "###Phasenverschiebung Serienkreis:\n",
      "phase=np.loadtxt(\"phasenverschiebung.dat\")\n",
      "plt.clf()\n",
      "plt.figure(3)\n",
      "mpl.rcParams['text.usetex']=True\n",
      "mpl.rcParams['text.latex.unicode']=True\n",
      "plt.ticklabel_format(style='sci', axis='both', scilimits=(-3,3))\n",
      "f3=ma.uncertainty.Sheet(\"2*pi*f\",\"\\omega\")\n",
      "f3.set_value('f', error=1)\n",
      "omega2=f3.batch(phase,'f|*')\n",
      "phisheet=ma.uncertainty.Sheet(\"2*pi/360*p\",'\\varphi')\n",
      "phisheet.v('p',error=1)\n",
      "phi=phisheet.batch(phase,'*|p')\n",
      "plt.xlabel(r'Kreisfrequenz $\\omega~$[Hz]')\n",
      "plt.ylabel(r'Phasenverschiebung $\\varphi~$[rad]')\n",
      "plt.ylim(-0.5*np.pi,0.5*np.pi)\n",
      "plt.yticks([0., np.pi/8, 2*np.pi/8, 3*np.pi/8, 4*np.pi/8, -np.pi/8, -2*np.pi/8, -3*np.pi/8, -4*np.pi/8],[\"0\", r\"$\\frac{1}{8}\\pi$\",\n",
      "                     r\"$\\frac{1}{4}\\pi$\", r\"$\\frac{3}{8}\\pi$\", r\"$\\frac{1}{2}\\pi$\", r\"$-\\frac{1}{8}\\pi$\",\n",
      "                     r\"$-\\frac{1}{4}\\pi$\", r\"$-\\frac{3}{8}\\pi$\", r\"$-\\frac{1}{2}\\pi$\"])\n",
      "\n",
      "\n",
      "#Theoriekurve fitten:\n",
      "def theophase(x,a,b,c):#x=freq. ,a=R, b=L, c=C\n",
      "    return np.arctan((x*b-1/(x*c))/a)\n",
      "popt2, pcov2=sp.optimize.curve_fit(theophase,omega2[:,0],phi[:,0],[69,0.4,1.8e-6])#,phi[:,1])\n",
      "variance2 = np.diagonal(pcov2) #Diagonalelemente der Covarianzmatrix\n",
      "SE2 = np.sqrt(variance2) #Wurzel der Varianz = Standardabweichung\n",
      "#Theokurve plotten:\n",
      "x=np.linspace(600,3000,1000)\n",
      "plt.plot(x,theophase(x,*popt2),label=r\"$r(x)=\\arctan\\left(\\frac{x\\cdot L-\\frac{1}{x\\cdot C}}{R}\\right)$\")\n",
      "plt.errorbar(omega2[:,0],phi[:,0],phi[:,1],omega2[:,1],'ro',markersize=1,label='Messwerte')\n",
      "plt.legend(loc=4)\n",
      "plt.savefig(\"plot3.pdf\",transparent=True,format=\"pdf\",bbox_inches='tight')"
     ],
     "language": "python",
     "metadata": {},
     "outputs": [
      {
       "ename": "ValueError",
       "evalue": "diag requires an array of at least two dimensions",
       "output_type": "pyerr",
       "traceback": [
        "\u001b[0;31m---------------------------------------------------------------------------\u001b[0m\n\u001b[0;31mValueError\u001b[0m                                Traceback (most recent call last)",
        "\u001b[0;32m<ipython-input-9-76f1b6b2af9e>\u001b[0m in \u001b[0;36m<module>\u001b[0;34m()\u001b[0m\n\u001b[1;32m     24\u001b[0m     \u001b[0;32mreturn\u001b[0m \u001b[0mnp\u001b[0m\u001b[0;34m.\u001b[0m\u001b[0marctan\u001b[0m\u001b[0;34m(\u001b[0m\u001b[0;34m(\u001b[0m\u001b[0mx\u001b[0m\u001b[0;34m*\u001b[0m\u001b[0mb\u001b[0m\u001b[0;34m-\u001b[0m\u001b[0;36m1\u001b[0m\u001b[0;34m/\u001b[0m\u001b[0;34m(\u001b[0m\u001b[0mx\u001b[0m\u001b[0;34m*\u001b[0m\u001b[0mc\u001b[0m\u001b[0;34m)\u001b[0m\u001b[0;34m)\u001b[0m\u001b[0;34m/\u001b[0m\u001b[0ma\u001b[0m\u001b[0;34m)\u001b[0m\u001b[0;34m\u001b[0m\u001b[0m\n\u001b[1;32m     25\u001b[0m \u001b[0mpopt2\u001b[0m\u001b[0;34m,\u001b[0m \u001b[0mpcov2\u001b[0m\u001b[0;34m=\u001b[0m\u001b[0msp\u001b[0m\u001b[0;34m.\u001b[0m\u001b[0moptimize\u001b[0m\u001b[0;34m.\u001b[0m\u001b[0mcurve_fit\u001b[0m\u001b[0;34m(\u001b[0m\u001b[0mtheophase\u001b[0m\u001b[0;34m,\u001b[0m\u001b[0momega2\u001b[0m\u001b[0;34m[\u001b[0m\u001b[0;34m:\u001b[0m\u001b[0;34m,\u001b[0m\u001b[0;36m0\u001b[0m\u001b[0;34m]\u001b[0m\u001b[0;34m,\u001b[0m\u001b[0mphi\u001b[0m\u001b[0;34m[\u001b[0m\u001b[0;34m:\u001b[0m\u001b[0;34m,\u001b[0m\u001b[0;36m0\u001b[0m\u001b[0;34m]\u001b[0m\u001b[0;34m,\u001b[0m\u001b[0;34m[\u001b[0m\u001b[0;36m69\u001b[0m\u001b[0;34m,\u001b[0m\u001b[0;36m0.4\u001b[0m\u001b[0;34m,\u001b[0m\u001b[0;36m1.8e-6\u001b[0m\u001b[0;34m]\u001b[0m\u001b[0;34m)\u001b[0m\u001b[0;31m#,phi[:,1])\u001b[0m\u001b[0;34m\u001b[0m\u001b[0m\n\u001b[0;32m---> 26\u001b[0;31m \u001b[0mvariance2\u001b[0m \u001b[0;34m=\u001b[0m \u001b[0mnp\u001b[0m\u001b[0;34m.\u001b[0m\u001b[0mdiagonal\u001b[0m\u001b[0;34m(\u001b[0m\u001b[0mpcov2\u001b[0m\u001b[0;34m)\u001b[0m \u001b[0;31m#Diagonalelemente der Covarianzmatrix\u001b[0m\u001b[0;34m\u001b[0m\u001b[0m\n\u001b[0m\u001b[1;32m     27\u001b[0m \u001b[0mSE2\u001b[0m \u001b[0;34m=\u001b[0m \u001b[0mnp\u001b[0m\u001b[0;34m.\u001b[0m\u001b[0msqrt\u001b[0m\u001b[0;34m(\u001b[0m\u001b[0mvariance2\u001b[0m\u001b[0;34m)\u001b[0m \u001b[0;31m#Wurzel der Varianz = Standardabweichung\u001b[0m\u001b[0;34m\u001b[0m\u001b[0m\n\u001b[1;32m     28\u001b[0m \u001b[0;31m#Theokurve plotten:\u001b[0m\u001b[0;34m\u001b[0m\u001b[0;34m\u001b[0m\u001b[0m\n",
        "\u001b[0;32m/usr/lib/python2.7/dist-packages/numpy/core/fromnumeric.pyc\u001b[0m in \u001b[0;36mdiagonal\u001b[0;34m(a, offset, axis1, axis2)\u001b[0m\n\u001b[1;32m   1218\u001b[0m \u001b[0;34m\u001b[0m\u001b[0m\n\u001b[1;32m   1219\u001b[0m     \"\"\"\n\u001b[0;32m-> 1220\u001b[0;31m     \u001b[0;32mreturn\u001b[0m \u001b[0masarray\u001b[0m\u001b[0;34m(\u001b[0m\u001b[0ma\u001b[0m\u001b[0;34m)\u001b[0m\u001b[0;34m.\u001b[0m\u001b[0mdiagonal\u001b[0m\u001b[0;34m(\u001b[0m\u001b[0moffset\u001b[0m\u001b[0;34m,\u001b[0m \u001b[0maxis1\u001b[0m\u001b[0;34m,\u001b[0m \u001b[0maxis2\u001b[0m\u001b[0;34m)\u001b[0m\u001b[0;34m\u001b[0m\u001b[0m\n\u001b[0m\u001b[1;32m   1221\u001b[0m \u001b[0;34m\u001b[0m\u001b[0m\n\u001b[1;32m   1222\u001b[0m \u001b[0;34m\u001b[0m\u001b[0m\n",
        "\u001b[0;31mValueError\u001b[0m: diag requires an array of at least two dimensions"
       ]
      }
     ],
     "prompt_number": 9
    },
    {
     "cell_type": "code",
     "collapsed": false,
     "input": [
      "popt2"
     ],
     "language": "python",
     "metadata": {},
     "outputs": []
    },
    {
     "cell_type": "code",
     "collapsed": false,
     "input": [
      "SE2"
     ],
     "language": "python",
     "metadata": {},
     "outputs": []
    },
    {
     "cell_type": "code",
     "collapsed": false,
     "input": [
      "### U U_C U_{L+R} ~~~~~~~  Plot 3:\n",
      "plt.clf()\n",
      "plt.figure(4)\n",
      "mpl.rcParams['text.usetex']=True\n",
      "mpl.rcParams['text.latex.unicode']=True\n",
      "plt.ticklabel_format(style='sci', axis='both', scilimits=(-3,3))\n",
      "spannungen=np.loadtxt(\"spannungen.dat\")\n",
      "spannungen=np.c_[spannungen,spannungen[:,1]*1/100+0.03,spannungen[:,2]*1/100+0.03,spannungen[:,3]*1/100+0.03]\n",
      "f4=ma.uncertainty.Sheet(\"2*pi*f\",\"\\omega\")\n",
      "f4.v('f',error=1)\n",
      "omega3=f4.batch(spannungen,'f|*|*|*|*|*|*')\n",
      "plt.errorbar(omega3[:,0],spannungen[:,1],spannungen[:,4],omega3[:,1],'go',markersize=4,label=r'$U$')\n",
      "plt.errorbar(omega3[:,0],spannungen[:,2],spannungen[:,5],omega3[:,1],'bx',markersize=5,label=r'$U_{L+R}$')\n",
      "plt.errorbar(omega3[:,0],spannungen[:,3],spannungen[:,6],omega3[:,1],'r+',markersize=5,label=r'$U_C$')\n",
      "plt.xlabel(r'Kreisfrequenz $\\omega~$[Hz]')\n",
      "plt.ylabel(r'Spannung $U~$[V]')\n",
      "plt.legend(loc=1)\n",
      "plt.xlim(500,2600)\n",
      "plt.savefig(\"plot4.pdf\",transparent=True,format=\"pdf\",bbox_inches='tight')"
     ],
     "language": "python",
     "metadata": {},
     "outputs": []
    },
    {
     "cell_type": "code",
     "collapsed": false,
     "input": [
      "spannungen"
     ],
     "language": "python",
     "metadata": {},
     "outputs": []
    },
    {
     "cell_type": "code",
     "collapsed": false,
     "input": [
      "omega3"
     ],
     "language": "python",
     "metadata": {},
     "outputs": []
    },
    {
     "cell_type": "code",
     "collapsed": false,
     "input": [
      "### Parallelkreis ~~~~~ :\n",
      "plt.clf()\n",
      "plt.figure(5)\n",
      "mpl.rcParams['text.usetex']=True\n",
      "mpl.rcParams['text.latex.unicode']=True\n",
      "plt.ticklabel_format(style='sci', axis='both', scilimits=(-3,3))\n",
      "\n",
      "parallel=np.loadtxt(\"parallelkreis.dat\")\n",
      "parallel=[1,1,1e-3]*parallel\n",
      "parallel=np.c_[parallel,parallel[:,1]*1/100+0.03,parallel[:,2]*1.5/100+0.3e-3]\n",
      "omegaparasheet=ma.uncertainty.Sheet(\"2*pi*f\",'\\omega')\n",
      "omegaparasheet.v('f',error=1)\n",
      "omegapara=omegaparasheet.batch(parallel,'f|*|*|*|*')\n",
      "\n",
      "impedparasheet=ma.uncertainty.Sheet(\"U/B\",'Z_0')\n",
      "#impedparasheet.v('U',error=0.01)\n",
      "#impedparasheet.v('B',error=0.1e-3)\n",
      "impedpara=impedparasheet.batch(parallel,'*|U|B|U%|B%')\n",
      "\n",
      "plt.xlabel(r'Kreisfrequenz $\\omega~$[Hz]')\n",
      "plt.ylabel(r'Impedanz $Z_0~$[$\\Omega$]')\n",
      "\n",
      "#Theoriekurve fitten:\n",
      "def theopara(x,a,b,c):#x=freq. ,a=R, b=L, c=C\n",
      "    return (a**2+x**2*b**2)/(a**2+(x*c*(a**2+x**2*b**2)-x*b)**2)**(0.5)\n",
      "popt3, pcov3=sp.optimize.curve_fit(theopara,omegapara[:,0],impedpara[:,0],[66,0.37,1.9e-6],impedpara[:,1])\n",
      "variance3 = np.diagonal(pcov3) #Diagonalelemente der Covarianzmatrix\n",
      "SE3 = np.sqrt(variance3) #Wurzel der Varianz = Standardabweichung\n",
      "x=np.linspace(500,3500,1000)\n",
      "#plt.plot(x,theopara(x,64.4,3.76e-1,1.92e-6),'g-',label=r\"$\\frac{R^2+\\omega^2 L^2}{\\sqrt{R^2+\\left[\\omega C\\left(R^2+\\omega^2 L^2\\right)-\\omega L\\right]^2}}$\")\n",
      "plt.plot(x,theopara(x,5+68,0.4,1.8e-6),'g-',label=r\"$\\frac{R^2+\\omega^2 L^2}{\\sqrt{R^2+\\left[\\omega C\\left(R^2+\\omega^2 L^2\\right)-\\omega L\\right]^2}}$\")\n",
      "plt.plot(x,theopara(x,*popt3),label=r\"$\\frac{R^2+\\omega^2 L^2}{\\sqrt{R^2+\\left[\\omega C\\left(R^2+\\omega^2 L^2\\right)-\\omega L\\right]^2}}$\")\n",
      "plt.errorbar(omegapara[:,0],impedpara[:,0],impedpara[:,1],omegapara[:,1],'ro',markersize=3,label=r'Messwerte')\n",
      "plt.legend(loc=1)\n",
      "\n",
      "\n",
      "\n",
      "\n",
      "plt.savefig(\"plot5.pdf\",transparent=True,format=\"pdf\",bbox_inches='tight')"
     ],
     "language": "python",
     "metadata": {},
     "outputs": []
    },
    {
     "cell_type": "code",
     "collapsed": false,
     "input": [
      "popt3"
     ],
     "language": "python",
     "metadata": {},
     "outputs": []
    },
    {
     "cell_type": "code",
     "collapsed": false,
     "input": [
      "SE3"
     ],
     "language": "python",
     "metadata": {},
     "outputs": []
    },
    {
     "cell_type": "code",
     "collapsed": false,
     "input": [
      "impedparasheet.p()"
     ],
     "language": "python",
     "metadata": {},
     "outputs": []
    },
    {
     "cell_type": "code",
     "collapsed": false,
     "input": [],
     "language": "python",
     "metadata": {},
     "outputs": []
    }
   ],
   "metadata": {}
  }
 ]
}