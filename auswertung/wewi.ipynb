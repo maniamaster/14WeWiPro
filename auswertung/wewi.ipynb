{
 "metadata": {
  "name": ""
 },
 "nbformat": 3,
 "nbformat_minor": 0,
 "worksheets": [
  {
   "cells": [
    {
     "cell_type": "code",
     "collapsed": false,
     "input": [
      "import maabara as ma\n",
      "import numpy as np\n",
      "import scipy as sp\n",
      "import sympy as sym\n",
      "import matplotlib as mpl \n",
      "import matplotlib.pyplot as plt\n",
      "import math\n",
      "\n",
      "#latex formatting:\n",
      "def latex_float(f):\n",
      "    float_str = \"{0:.2g}\".format(f)\n",
      "    if \"e\" in float_str:\n",
      "        base, exponent = float_str.split(\"e\")\n",
      "        return r\"{0} \\times 10^{{{1}}}\".format(base, int(exponent))\n",
      "    else:\n",
      "        return float_str"
     ],
     "language": "python",
     "metadata": {},
     "outputs": [],
     "prompt_number": 1
    },
    {
     "cell_type": "code",
     "collapsed": false,
     "input": [
      "sp.version.version"
     ],
     "language": "python",
     "metadata": {},
     "outputs": [
      {
       "metadata": {},
       "output_type": "pyout",
       "prompt_number": 2,
       "text": [
        "'0.14.0'"
       ]
      }
     ],
     "prompt_number": 2
    },
    {
     "cell_type": "code",
     "collapsed": false,
     "input": [
      "###Auswertung1:\n",
      "daten=np.loadtxt(\"messung3.dat\")\n",
      "daten2=[1,1,1e-3,1,1,1,1e-3,1]*daten\n",
      "daten2=daten2+[0,0,0,0,0,0,0.27e-3,0]\n",
      "z0=ma.uncertainty.Sheet(\"(U/B)**2\",\"Z_0^2\")\n",
      "z0.set_value(\"B\",tex='I')\n",
      "#z0.set_value(\"U\",error=0.01)\n",
      "Impedanzquadrat=z0.batch(daten2,'*|U|B|*|*|U%|B%|*')\n",
      "f=ma.uncertainty.Sheet(\"4*pi**2*f**2\",\"\\omega^2\")\n",
      "Kreisfrequenzquadrat=f.batch(daten2,'f|*|*|*|f%|*|*|*')\n",
      "\n",
      "#Plot1:\n",
      "plt.clf()\n",
      "plt.figure(1)\n",
      "mpl.rcParams['text.usetex']=True\n",
      "mpl.rcParams['text.latex.unicode']=True\n",
      "plt.ticklabel_format(style='sci', axis='both', scilimits=(-3,3))\n",
      "\n",
      "#lineare Regression:\n",
      "m,b,tex=ma.data.linear_fit(Kreisfrequenzquadrat[:,0],Impedanzquadrat[:,0],Impedanzquadrat[:,1])\n",
      "x=np.linspace(0,max(Kreisfrequenzquadrat[:,0]+100))\n",
      "y=m.n*x+b.n\n",
      "#tex='r(x) = 0.163(5) \\\\cdot x + 6(3) \\\\times 10^{3}'\n",
      "plt.plot(x,y,\"b-\",label=\"$\"+tex+\"$\")\n",
      "plt.errorbar(Kreisfrequenzquadrat[:,0],Impedanzquadrat[:,0],Impedanzquadrat[:,1],Kreisfrequenzquadrat[:,1],'ro',markersize=3,label='Messwerte')\n",
      "plt.xlabel(r'Quadrat der Kreisfrequenz $\\omega^2~$[Hz$^2$]')\n",
      "plt.ylabel(r'Quadrat der Impedanz $Z_0^2~$[$\\Omega^2$]')\n",
      "plt.legend(loc=2)\n",
      "plt.savefig(\"plot1.pdf\",transparent=True,format=\"pdf\",bbox_inches='tight')\n"
     ],
     "language": "python",
     "metadata": {},
     "outputs": [
      {
       "output_type": "stream",
       "stream": "stdout",
       "text": [
        "results of linear_fit:\n",
        "   chi squared =  0.16994951786\n",
        "   degrees of freedom =  8\n",
        "   reduced chi squared =  0.0212436897325\n"
       ]
      }
     ],
     "prompt_number": 3
    },
    {
     "cell_type": "code",
     "collapsed": false,
     "input": [
      "test=ma.uncertainty.Sheet('x**(0.5)','T')\n",
      "test.v('x',3,3)\n",
      "test.p()"
     ],
     "language": "python",
     "metadata": {},
     "outputs": [
      {
       "latex": [
        "$$T=x^{0.5}$$"
       ],
       "metadata": {},
       "output_type": "display_data",
       "text": [
        "<IPython.core.display.Math at 0x7f3c45429e10>"
       ]
      },
      {
       "output_type": "stream",
       "stream": "stdout",
       "text": [
        "T=x^{0.5}\n",
        "\n"
       ]
      },
      {
       "latex": [
        "$$T=1.7 \\pm 0.9$$"
       ],
       "metadata": {},
       "output_type": "display_data",
       "text": [
        "<IPython.core.display.Math at 0x7f3c6815cf50>"
       ]
      },
      {
       "output_type": "stream",
       "stream": "stdout",
       "text": [
        "T=1.7 \\pm 0.9\n",
        "\n"
       ]
      },
      {
       "latex": [
        "$$\\sigma_{T}=\\frac{0.5}{x^{0.5}} \\cdot \\sigma_{x}$$"
       ],
       "metadata": {},
       "output_type": "display_data",
       "text": [
        "<IPython.core.display.Math at 0x7f3c6815cf50>"
       ]
      },
      {
       "output_type": "stream",
       "stream": "stdout",
       "text": [
        "\\sigma_{T}=\\frac{0.5}{x^{0.5}} \\cdot \\sigma_{x}\n",
        "\n"
       ]
      },
      {
       "metadata": {},
       "output_type": "pyout",
       "prompt_number": 4,
       "text": [
        "1.7320508075688772+/-0.8660254037844386"
       ]
      }
     ],
     "prompt_number": 4
    },
    {
     "cell_type": "code",
     "collapsed": false,
     "input": [
      "daten2"
     ],
     "language": "python",
     "metadata": {},
     "outputs": [
      {
       "metadata": {},
       "output_type": "pyout",
       "prompt_number": 5,
       "text": [
        "array([[  7.80000000e+01,   9.64000000e+00,   4.53000000e-02,\n",
        "         -6.90000000e+01,   1.00000000e+00,   1.00000000e-01,\n",
        "          9.70000000e-04,   1.00000000e+00],\n",
        "       [  1.29000000e+02,   9.75000000e+00,   2.91000000e-02,\n",
        "         -7.90000000e+01,   1.00000000e+00,   1.00000000e-01,\n",
        "          7.70000000e-04,   1.00000000e+00],\n",
        "       [  1.94000000e+02,   9.79000000e+00,   1.97000000e-02,\n",
        "         -8.40000000e+01,   1.00000000e+00,   1.00000000e-01,\n",
        "          6.70000000e-04,   1.00000000e+00],\n",
        "       [  2.75000000e+02,   9.80000000e+00,   1.40000000e-02,\n",
        "         -8.60000000e+01,   1.00000000e+00,   1.00000000e-01,\n",
        "          5.70000000e-04,   1.00000000e+00],\n",
        "       [  3.42000000e+02,   9.80000000e+00,   1.12000000e-02,\n",
        "         -8.70000000e+01,   1.00000000e+00,   1.00000000e-01,\n",
        "          4.70000000e-04,   1.00000000e+00],\n",
        "       [  4.06000000e+02,   9.80000000e+00,   9.40000000e-03,\n",
        "         -8.80000000e+01,   1.00000000e+00,   1.00000000e-01,\n",
        "          4.70000000e-04,   1.00000000e+00],\n",
        "       [  4.53000000e+02,   9.80000000e+00,   8.40000000e-03,\n",
        "         -8.70000000e+01,   1.00000000e+00,   1.00000000e-01,\n",
        "          4.70000000e-04,   1.00000000e+00],\n",
        "       [  2.21000000e+02,   9.79000000e+00,   1.73000000e-02,\n",
        "         -8.50000000e+01,   1.00000000e+00,   1.00000000e-01,\n",
        "          5.70000000e-04,   1.00000000e+00],\n",
        "       [  1.56000000e+02,   9.77000000e+00,   2.43000000e-02,\n",
        "         -8.10000000e+01,   1.00000000e+00,   1.00000000e-01,\n",
        "          6.70000000e-04,   1.00000000e+00],\n",
        "       [  3.89000000e+02,   9.80000000e+00,   9.80000000e-03,\n",
        "         -8.70000000e+01,   1.00000000e+00,   1.00000000e-01,\n",
        "          4.70000000e-04,   1.00000000e+00]])"
       ]
      }
     ],
     "prompt_number": 5
    },
    {
     "cell_type": "code",
     "collapsed": false,
     "input": [
      "#Berechnung von R und L:\n",
      "L=m**(0.5)\n",
      "R=b**(0.5)\n",
      "\n",
      "L,R"
     ],
     "language": "python",
     "metadata": {},
     "outputs": [
      {
       "metadata": {},
       "output_type": "pyout",
       "prompt_number": 6,
       "text": [
        "(0.40426542862166376+/-0.0065665130864476125,\n",
        " 76.4472570377945+/-17.860599517106145)"
       ]
      }
     ],
     "prompt_number": 6
    },
    {
     "cell_type": "code",
     "collapsed": false,
     "input": [
      "###Auswertung2':\n",
      "serie1=np.loadtxt(\"messung4.dat\")\n",
      "serie=[1,1,1e-3,1e-3]*serie1\n",
      "serie=serie+[0,0,0,0.27e-3]\n",
      "f2=ma.uncertainty.Sheet(\"2*pi*f\",\"\\omega\")\n",
      "f2.set_value('f', error=1) \n",
      "#Berechnung von omega^2:\n",
      "omega=f2.batch(serie,'f|*|*|*')\n",
      "#Berechnung von z_o^2:\n",
      "z02=ma.uncertainty.Sheet(\"U/B\",\"Z_0\")\n",
      "z02.set_value('U',error=0.1)\n",
      "z02.set_value('B',tex='I')\n",
      "imped=z02.batch(serie,'*|U|B|B%')\n",
      "#Plotten:\n",
      "plt.clf()\n",
      "plt.figure(2)\n",
      "mpl.rcParams['text.usetex']=True\n",
      "mpl.rcParams['text.latex.unicode']=True\n",
      "plt.ticklabel_format(style='sci', axis='both', scilimits=(-3,3))\n",
      "plt.xlabel(r'Kreisfrequenz $\\omega~$[Hz]')\n",
      "plt.ylabel(r'Impedanz $Z_0~$[$\\Omega$]')\n",
      "\n",
      "\n",
      "#Theoriekurve:\n",
      "#x=np.linspace(300,2800)\n",
      "impedtheorie=((100)**2+(0.405*x-(1/(x*2.193e-6)))**2)**(0.5)\n",
      "\n",
      "#Theoriekurve fitten:\n",
      "def theo(x,a,b,c):\n",
      "    return (a**2+(b*x-(1/(x*c)))**2)**(0.5)\n",
      "popt1, pcov1=sp.optimize.curve_fit(theo,omega[:,0],imped[:,0],[88,0.4,2e-6],imped[:,1],absolute_sigma=False)\n",
      "variance = np.diagonal(pcov1) #Diagonalelemente der Covarianzmatrix\n",
      "SE = np.sqrt(variance) #Wurzel der Varianz = Standardabweichung\n",
      "#tex=\"r(x)=\\\\sqrt{\"+\"{:.2g}\".format(popt[0])+\"^2+\\\\left(x\\\\cdot \"+\"{:.2g}\".format(popt[1])+\"-\\\\frac{1}{x \"+\"{:.2g}\".format(popt[2])+\"}\\\\right)^2}\"\n",
      "x=np.linspace(500,3000,1000)\n",
      "plt.plot(x,theo(x,*popt1),label=\"$r(x)=\\\\sqrt{R^2+\\\\left(x\\\\cdot L-\\\\frac{1}{x\\\\cdot C}\\\\right)^2}$\")\n",
      "plt.errorbar(omega[:,0],imped[:,0],imped[:,1],omega[:,1],'ro',markersize=1,label='Messwerte')\n",
      "plt.legend(loc=2)\n",
      "plt.text(2e3, 180, r'$R=83.4(9)~\\Omega$')\n",
      "plt.text(2e3, 120, r'$L=0.403(5)~$H')\n",
      "plt.text(2e3, 60, r'$C=1.80(2)\\times 10^{-6}~$F')\n",
      "\n",
      "plt.savefig(\"plot2.pdf\",transparent=True,format=\"pdf\",bbox_inches='tight')"
     ],
     "language": "python",
     "metadata": {},
     "outputs": [
      {
       "output_type": "stream",
       "stream": "stderr",
       "text": [
        "-c:26: RuntimeWarning: divide by zero encountered in divide\n"
       ]
      }
     ],
     "prompt_number": 7
    },
    {
     "cell_type": "code",
     "collapsed": false,
     "input": [
      "f2.p()"
     ],
     "language": "python",
     "metadata": {},
     "outputs": [
      {
       "latex": [
        "$$\\omega=2 \\cdot \\pi \\cdot f$$"
       ],
       "metadata": {},
       "output_type": "display_data",
       "text": [
        "<IPython.core.display.Math at 0x7f3c430c3910>"
       ]
      },
      {
       "output_type": "stream",
       "stream": "stdout",
       "text": [
        "\\omega=2 \\cdot \\pi \\cdot f\n",
        "\n"
       ]
      },
      {
       "latex": [
        "$$\\omega=1363.5 \\pm 6.3$$"
       ],
       "metadata": {},
       "output_type": "display_data",
       "text": [
        "<IPython.core.display.Math at 0x7f3c430c3910>"
       ]
      },
      {
       "output_type": "stream",
       "stream": "stdout",
       "text": [
        "\\omega=1363.5 \\pm 6.3\n",
        "\n"
       ]
      },
      {
       "latex": [
        "$$\\sigma_{\\omega}=2 \\cdot \\pi \\cdot \\sigma_{f}$$"
       ],
       "metadata": {},
       "output_type": "display_data",
       "text": [
        "<IPython.core.display.Math at 0x7f3c430c3910>"
       ]
      },
      {
       "output_type": "stream",
       "stream": "stdout",
       "text": [
        "\\sigma_{\\omega}=2 \\cdot \\pi \\cdot \\sigma_{f}\n",
        "\n"
       ]
      },
      {
       "metadata": {},
       "output_type": "pyout",
       "prompt_number": 8,
       "text": [
        "1363.4512116579704+/-6.283185307179586"
       ]
      }
     ],
     "prompt_number": 8
    },
    {
     "cell_type": "code",
     "collapsed": false,
     "input": [
      "z02.p()"
     ],
     "language": "python",
     "metadata": {},
     "outputs": [
      {
       "latex": [
        "$$Z_0=\\frac{U}{I}$$"
       ],
       "metadata": {},
       "output_type": "display_data",
       "text": [
        "<IPython.core.display.Math at 0x7f3c43eada50>"
       ]
      },
      {
       "output_type": "stream",
       "stream": "stdout",
       "text": [
        "Z_0=\\frac{U}{I}\n",
        "\n"
       ]
      },
      {
       "latex": [
        "$$Z_0=162.2 \\pm 3.8$$"
       ],
       "metadata": {},
       "output_type": "display_data",
       "text": [
        "<IPython.core.display.Math at 0x7f3c43eada50>"
       ]
      },
      {
       "output_type": "stream",
       "stream": "stdout",
       "text": [
        "Z_0=162.2 \\pm 3.8\n",
        "\n"
       ]
      },
      {
       "latex": [
        "$$\\sigma_{Z_0}=\\frac{1}{I^{2}} \\cdot \\sqrt{I^{2} \\cdot \\sigma_{U}^{2} + U^{2} \\cdot \\sigma_{I}^{2}}$$"
       ],
       "metadata": {},
       "output_type": "display_data",
       "text": [
        "<IPython.core.display.Math at 0x7f3c43eada50>"
       ]
      },
      {
       "output_type": "stream",
       "stream": "stdout",
       "text": [
        "\\sigma_{Z_0}=\\frac{1}{I^{2}} \\cdot \\sqrt{I^{2} \\cdot \\sigma_{U}^{2} + U^{2} \\cdot \\sigma_{I}^{2}}\n",
        "\n"
       ]
      },
      {
       "metadata": {},
       "output_type": "pyout",
       "prompt_number": 9,
       "text": [
        "162.2296173044925+/-3.8106077080695826"
       ]
      }
     ],
     "prompt_number": 9
    },
    {
     "cell_type": "code",
     "collapsed": false,
     "input": [
      "popt1"
     ],
     "language": "python",
     "metadata": {},
     "outputs": [
      {
       "metadata": {},
       "output_type": "pyout",
       "prompt_number": 10,
       "text": [
        "array([  8.33954628e+01,   4.03098111e-01,   1.79966350e-06])"
       ]
      }
     ],
     "prompt_number": 10
    },
    {
     "cell_type": "code",
     "collapsed": false,
     "input": [
      "pcov1"
     ],
     "language": "python",
     "metadata": {},
     "outputs": [
      {
       "metadata": {},
       "output_type": "pyout",
       "prompt_number": 11,
       "text": [
        "array([[  9.26575977e-02,  -1.94895190e-04,   8.46574399e-10],\n",
        "       [ -1.94895190e-04,   2.07041975e-06,  -8.98467337e-12],\n",
        "       [  8.46574399e-10,  -8.98467337e-12,   4.12832006e-17]])"
       ]
      }
     ],
     "prompt_number": 11
    },
    {
     "cell_type": "code",
     "collapsed": false,
     "input": [
      "SE"
     ],
     "language": "python",
     "metadata": {},
     "outputs": [
      {
       "metadata": {},
       "output_type": "pyout",
       "prompt_number": 12,
       "text": [
        "array([  3.04397105e-01,   1.43889532e-03,   6.42520044e-09])"
       ]
      }
     ],
     "prompt_number": 12
    },
    {
     "cell_type": "code",
     "collapsed": false,
     "input": [
      "resonanzfrequenz=ma.uncertainty.Sheet('(1/(L*C))**(0.5)','\\omega_{r,1}')\n",
      "resonanzfrequenz.v('L',popt1[1],SE[1])\n",
      "resonanzfrequenz.v('C',popt1[2],SE[2])\n",
      "resonanzfrequenz.p()"
     ],
     "language": "python",
     "metadata": {},
     "outputs": [
      {
       "latex": [
        "$$\\omega_{r,1}=\\left(\\frac{1}{C \\cdot L}\\right)^{0.5}$$"
       ],
       "metadata": {},
       "output_type": "display_data",
       "text": [
        "<IPython.core.display.Math at 0x7f3c44e78e90>"
       ]
      },
      {
       "output_type": "stream",
       "stream": "stdout",
       "text": [
        "\\omega_{r,1}=\\left(\\frac{1}{C \\cdot L}\\right)^{0.5}\n",
        "\n"
       ]
      },
      {
       "latex": [
        "$$\\omega_{r,1}=1174.1 \\pm 3.0$$"
       ],
       "metadata": {},
       "output_type": "display_data",
       "text": [
        "<IPython.core.display.Math at 0x7f3c44e78e90>"
       ]
      },
      {
       "output_type": "stream",
       "stream": "stdout",
       "text": [
        "\\omega_{r,1}=1174.1 \\pm 3.0\n",
        "\n"
       ]
      },
      {
       "latex": [
        "$$\\sigma_{\\omega_{r,1}}=\\frac{0.5}{C^{1.5} \\cdot L^{1.5}} \\cdot \\sqrt{C^{2} \\cdot \\sigma_{L}^{2} + L^{2} \\cdot \\sigma_{C}^{2}}$$"
       ],
       "metadata": {},
       "output_type": "display_data",
       "text": [
        "<IPython.core.display.Math at 0x7f3c44e78e90>"
       ]
      },
      {
       "output_type": "stream",
       "stream": "stdout",
       "text": [
        "\\sigma_{\\omega_{r,1}}=\\frac{0.5}{C^{1.5} \\cdot L^{1.5}} \\cdot \\sqrt{C^{2} \\cdot \\sigma_{L}^{2} + L^{2} \\cdot \\sigma_{C}^{2}}\n",
        "\n"
       ]
      },
      {
       "metadata": {},
       "output_type": "pyout",
       "prompt_number": 13,
       "text": [
        "1174.0834459949601+/-2.96374528198099"
       ]
      }
     ],
     "prompt_number": 13
    },
    {
     "cell_type": "code",
     "collapsed": false,
     "input": [
      "###Phasenverschiebung Serienkreis:\n",
      "phase=np.loadtxt(\"phasenverschiebung.dat\")\n",
      "plt.clf()\n",
      "plt.figure(3)\n",
      "mpl.rcParams['text.usetex']=True\n",
      "mpl.rcParams['text.latex.unicode']=True\n",
      "plt.ticklabel_format(style='sci', axis='both', scilimits=(-3,3))\n",
      "f3=ma.uncertainty.Sheet(\"2*pi*f\",\"\\omega\")\n",
      "f3.set_value('f', error=1)\n",
      "omega2=f3.batch(phase,'f|*')\n",
      "phisheet=ma.uncertainty.Sheet(\"2*pi/360*p\",'\\varphi')\n",
      "phisheet.v('p',error=1)\n",
      "phi=phisheet.batch(phase,'*|p')\n",
      "plt.xlabel(r'Kreisfrequenz $\\omega~$[Hz]')\n",
      "plt.ylabel(r'Phasenverschiebung $\\varphi~$[rad]')\n",
      "plt.ylim(-0.5*np.pi,0.5*np.pi)\n",
      "plt.yticks([0., np.pi/8, 2*np.pi/8, 3*np.pi/8, 4*np.pi/8, -np.pi/8, -2*np.pi/8, -3*np.pi/8, -4*np.pi/8],[\"0\", r\"$\\frac{1}{8}\\pi$\",\n",
      "                     r\"$\\frac{1}{4}\\pi$\", r\"$\\frac{3}{8}\\pi$\", r\"$\\frac{1}{2}\\pi$\", r\"$-\\frac{1}{8}\\pi$\",\n",
      "                     r\"$-\\frac{1}{4}\\pi$\", r\"$-\\frac{3}{8}\\pi$\", r\"$-\\frac{1}{2}\\pi$\"])\n",
      "\n",
      "\n",
      "#Theoriekurve fitten:\n",
      "def theophase(x,b,c):#x=freq. ,a=R, b=L, c=C\n",
      "    return sp.arctan((x*b-(1/(x*c)))/83.4)\n",
      "popt2, pcov2=sp.optimize.curve_fit(theophase,omega2[:,0],phi[:,0],[0.4,2e-6],phi[:,1],absolute_sigma=True)\n",
      "variance2 = np.diagonal(pcov2) #Diagonalelemente der Covarianzmatrix\n",
      "SE2 = np.sqrt(variance2) #Wurzel der Varianz = Standardabweichung\n",
      "#Theokurve plotten:\n",
      "x=np.linspace(600,3000,1000)\n",
      "#plt.plot(x,theophase(x,83.4,0.403,1.80e-6),'b-',label=r\"$r(x)=\\arctan\\left(\\frac{x\\cdot L-\\frac{1}{x\\cdot C}}{R}\\right)$\",)\n",
      "plt.plot(x,theophase(x,*popt2),label=r\"$r(x)=\\arctan\\left(\\frac{x\\cdot L-\\frac{1}{x\\cdot C}}{R}\\right)$\")\n",
      "plt.errorbar(omega2[:,0],phi[:,0],phi[:,1],omega2[:,1],'ro',markersize=1,label='Messwerte')\n",
      "plt.text(2e3, -0.2, r'$R=83.4(9)~\\Omega$')\n",
      "plt.text(2e3, -0.4, r'$L=0.390(5)~$H')\n",
      "plt.text(2e3, -0.6, r'$C=1.87(3)\\times 10^{-6}~$F')\n",
      "plt.legend(loc=4)\n",
      "plt.savefig(\"plot3.pdf\",transparent=True,format=\"pdf\",bbox_inches='tight')"
     ],
     "language": "python",
     "metadata": {},
     "outputs": [],
     "prompt_number": 14
    },
    {
     "cell_type": "code",
     "collapsed": false,
     "input": [
      "omega2"
     ],
     "language": "python",
     "metadata": {},
     "outputs": [
      {
       "metadata": {},
       "output_type": "pyout",
       "prompt_number": 15,
       "text": [
        "array([[  691.15038379,     6.28318531],\n",
        "       [  929.91142546,     6.28318531],\n",
        "       [ 1262.92024674,     6.28318531],\n",
        "       [ 1520.53084434,     6.28318531],\n",
        "       [ 1884.95559215,     6.28318531],\n",
        "       [ 2199.11485751,     6.28318531],\n",
        "       [ 2513.27412287,     6.28318531],\n",
        "       [  973.89372261,     6.28318531],\n",
        "       [ 1005.30964915,     6.28318531],\n",
        "       [ 1043.00876099,     6.28318531],\n",
        "       [ 1086.99105814,     6.28318531],\n",
        "       [ 1118.40698468,     6.28318531],\n",
        "       [ 1137.2565406 ,     6.28318531],\n",
        "       [ 1174.95565244,     6.28318531],\n",
        "       [ 1206.37157898,     6.28318531],\n",
        "       [ 1244.07069082,     6.28318531],\n",
        "       [ 1281.76980266,     6.28318531],\n",
        "       [ 1313.1857292 ,     6.28318531],\n",
        "       [ 1363.45121166,     6.28318531]])"
       ]
      }
     ],
     "prompt_number": 15
    },
    {
     "cell_type": "code",
     "collapsed": false,
     "input": [
      "popt2"
     ],
     "language": "python",
     "metadata": {},
     "outputs": [
      {
       "metadata": {},
       "output_type": "pyout",
       "prompt_number": 16,
       "text": [
        "array([  3.89688173e-01,   1.87026309e-06])"
       ]
      }
     ],
     "prompt_number": 16
    },
    {
     "cell_type": "code",
     "collapsed": false,
     "input": [
      "pcov2"
     ],
     "language": "python",
     "metadata": {},
     "outputs": [
      {
       "metadata": {},
       "output_type": "pyout",
       "prompt_number": 17,
       "text": [
        "array([[  1.78360118e-05,  -8.55130544e-11],\n",
        "       [ -8.55130544e-11,   4.16778147e-16]])"
       ]
      }
     ],
     "prompt_number": 17
    },
    {
     "cell_type": "code",
     "collapsed": false,
     "input": [
      "SE2"
     ],
     "language": "python",
     "metadata": {},
     "outputs": [
      {
       "metadata": {},
       "output_type": "pyout",
       "prompt_number": 18,
       "text": [
        "array([  4.22327027e-03,   2.04151451e-08])"
       ]
      }
     ],
     "prompt_number": 18
    },
    {
     "cell_type": "code",
     "collapsed": false,
     "input": [
      "### U U_C U_{L+R} ~~~~~~~  Plot 3:\n",
      "plt.clf()\n",
      "plt.figure(4)\n",
      "mpl.rcParams['text.usetex']=True\n",
      "mpl.rcParams['text.latex.unicode']=True\n",
      "plt.ticklabel_format(style='sci', axis='both', scilimits=(-3,3))\n",
      "spannungen=np.loadtxt(\"spannungen.dat\")\n",
      "spannungen=np.c_[spannungen,spannungen[:,1]*1/100+0.03,spannungen[:,2]*1/100+0.03,spannungen[:,3]*1/100+0.03]\n",
      "f4=ma.uncertainty.Sheet(\"2*pi*f\",\"\\omega\")\n",
      "f4.v('f',error=1)\n",
      "omega3=f4.batch(spannungen,'f|*|*|*|*|*|*')\n",
      "plt.errorbar(omega3[:,0],spannungen[:,1],spannungen[:,4],omega3[:,1],'ro',markersize=4,label=r'$U$')\n",
      "plt.errorbar(omega3[:,0],spannungen[:,2],spannungen[:,5],omega3[:,1],'gx',markersize=5,label=r'$U_{L+R}$')\n",
      "plt.errorbar(omega3[:,0],spannungen[:,3],spannungen[:,6],omega3[:,1],'b+',markersize=5,label=r'$U_C$')\n",
      "plt.xlabel(r'Kreisfrequenz $\\omega~$[Hz]')\n",
      "plt.ylabel(r'Spannung $U~$[V]')\n",
      "plt.legend(loc=1)\n",
      "plt.xlim(500,2600)\n",
      "plt.savefig(\"plot4.pdf\",transparent=True,format=\"pdf\",bbox_inches='tight')"
     ],
     "language": "python",
     "metadata": {},
     "outputs": [],
     "prompt_number": 19
    },
    {
     "cell_type": "code",
     "collapsed": false,
     "input": [
      "spannungen"
     ],
     "language": "python",
     "metadata": {},
     "outputs": [
      {
       "metadata": {},
       "output_type": "pyout",
       "prompt_number": 20,
       "text": [
        "array([[  1.10000000e+02,   9.76000000e+00,   5.38000000e+00,\n",
        "          1.48600000e+01,   1.27600000e-01,   8.38000000e-02,\n",
        "          1.78600000e-01],\n",
        "       [  1.48000000e+02,   9.77000000e+00,   1.57700000e+01,\n",
        "          2.45000000e+01,   1.27700000e-01,   1.87700000e-01,\n",
        "          2.75000000e-01],\n",
        "       [  2.01000000e+02,   9.66000000e+00,   4.60000000e+01,\n",
        "          3.90000000e+01,   1.26600000e-01,   4.90000000e-01,\n",
        "          4.20000000e-01],\n",
        "       [  2.42000000e+02,   9.79000000e+00,   2.34000000e+01,\n",
        "          1.38000000e+01,   1.27900000e-01,   2.64000000e-01,\n",
        "          1.68000000e-01],\n",
        "       [  3.00000000e+02,   9.80000000e+00,   1.60100000e+01,\n",
        "          6.24000000e+00,   1.28000000e-01,   1.90100000e-01,\n",
        "          9.24000000e-02],\n",
        "       [  3.50000000e+02,   9.81000000e+00,   1.37400000e+01,\n",
        "          3.93000000e+00,   1.28100000e-01,   1.67400000e-01,\n",
        "          6.93000000e-02],\n",
        "       [  4.00000000e+02,   9.81000000e+00,   1.26100000e+01,\n",
        "          2.75000000e+00,   1.28100000e-01,   1.56100000e-01,\n",
        "          5.75000000e-02],\n",
        "       [  1.55000000e+02,   9.76000000e+00,   1.98200000e+01,\n",
        "          2.82000000e+01,   1.27600000e-01,   2.28200000e-01,\n",
        "          3.12000000e-01],\n",
        "       [  1.60000000e+02,   9.75000000e+00,   2.39000000e+01,\n",
        "          3.19000000e+01,   1.27500000e-01,   2.69000000e-01,\n",
        "          3.49000000e-01],\n",
        "       [  1.66000000e+02,   9.72000000e+00,   3.01000000e+01,\n",
        "          3.73000000e+01,   1.27200000e-01,   3.31000000e-01,\n",
        "          4.03000000e-01],\n",
        "       [  1.73000000e+02,   9.65000000e+00,   3.94000000e+01,\n",
        "          4.50000000e+01,   1.26500000e-01,   4.24000000e-01,\n",
        "          4.80000000e-01],\n",
        "       [  1.78000000e+02,   9.57000000e+00,   4.60000000e+01,\n",
        "          4.98000000e+01,   1.25700000e-01,   4.90000000e-01,\n",
        "          5.28000000e-01],\n",
        "       [  1.81000000e+02,   9.51000000e+00,   5.05000000e+01,\n",
        "          5.25000000e+01,   1.25100000e-01,   5.35000000e-01,\n",
        "          5.55000000e-01],\n",
        "       [  1.87000000e+02,   9.47000000e+00,   5.46000000e+01,\n",
        "          5.35000000e+01,   1.24700000e-01,   5.76000000e-01,\n",
        "          5.65000000e-01],\n",
        "       [  1.92000000e+02,   9.50000000e+00,   5.41000000e+01,\n",
        "          5.05000000e+01,   1.25000000e-01,   5.71000000e-01,\n",
        "          5.35000000e-01],\n",
        "       [  1.98000000e+02,   9.60000000e+00,   4.90000000e+01,\n",
        "          4.28000000e+01,   1.26000000e-01,   5.20000000e-01,\n",
        "          4.58000000e-01],\n",
        "       [  2.04000000e+02,   9.68000000e+00,   4.33000000e+01,\n",
        "          3.57000000e+01,   1.26800000e-01,   4.63000000e-01,\n",
        "          3.87000000e-01],\n",
        "       [  2.09000000e+02,   9.71000000e+00,   3.87000000e+01,\n",
        "          3.04000000e+01,   1.27100000e-01,   4.17000000e-01,\n",
        "          3.34000000e-01],\n",
        "       [  2.17000000e+02,   9.75000000e+00,   3.35000000e+01,\n",
        "          2.46000000e+01,   1.27500000e-01,   3.65000000e-01,\n",
        "          2.76000000e-01]])"
       ]
      }
     ],
     "prompt_number": 20
    },
    {
     "cell_type": "code",
     "collapsed": false,
     "input": [
      "omega3"
     ],
     "language": "python",
     "metadata": {},
     "outputs": [
      {
       "metadata": {},
       "output_type": "pyout",
       "prompt_number": 21,
       "text": [
        "array([[  691.15038379,     6.28318531],\n",
        "       [  929.91142546,     6.28318531],\n",
        "       [ 1262.92024674,     6.28318531],\n",
        "       [ 1520.53084434,     6.28318531],\n",
        "       [ 1884.95559215,     6.28318531],\n",
        "       [ 2199.11485751,     6.28318531],\n",
        "       [ 2513.27412287,     6.28318531],\n",
        "       [  973.89372261,     6.28318531],\n",
        "       [ 1005.30964915,     6.28318531],\n",
        "       [ 1043.00876099,     6.28318531],\n",
        "       [ 1086.99105814,     6.28318531],\n",
        "       [ 1118.40698468,     6.28318531],\n",
        "       [ 1137.2565406 ,     6.28318531],\n",
        "       [ 1174.95565244,     6.28318531],\n",
        "       [ 1206.37157898,     6.28318531],\n",
        "       [ 1244.07069082,     6.28318531],\n",
        "       [ 1281.76980266,     6.28318531],\n",
        "       [ 1313.1857292 ,     6.28318531],\n",
        "       [ 1363.45121166,     6.28318531]])"
       ]
      }
     ],
     "prompt_number": 21
    },
    {
     "cell_type": "code",
     "collapsed": false,
     "input": [
      "### Parallelkreis ~~~~~ :\n",
      "plt.clf()\n",
      "plt.figure(5)\n",
      "mpl.rcParams['text.usetex']=True\n",
      "mpl.rcParams['text.latex.unicode']=True\n",
      "plt.ticklabel_format(style='sci', axis='both', scilimits=(-3,3))\n",
      "\n",
      "parallel=np.loadtxt(\"parallelkreis.dat\")\n",
      "parallel=[1,1,1e-3]*parallel\n",
      "parallel=np.c_[parallel,parallel[:,1]*1/100+0.03,parallel[:,2]*1.5/100+0.3e-3]\n",
      "omegaparasheet=ma.uncertainty.Sheet(\"2*pi*f\",'\\omega')\n",
      "omegaparasheet.v('f',error=1)\n",
      "omegapara=omegaparasheet.batch(parallel,'f|*|*|*|*')\n",
      "\n",
      "impedparasheet=ma.uncertainty.Sheet(\"U/B\",'Z_0')\n",
      "#impedparasheet.v('U',error=0.01)\n",
      "#impedparasheet.v('B',error=0.1e-3)\n",
      "impedpara=impedparasheet.batch(parallel,'*|U|B|U%|B%')\n",
      "\n",
      "plt.xlabel(r'Kreisfrequenz $\\omega~$[Hz]')\n",
      "plt.ylabel(r'Impedanz $Z_0~$[$\\Omega$]')\n",
      "\n",
      "#Theoriekurve fitten:\n",
      "def theopara(x,a,b,c):#x=freq. ,a=R, b=L, c=C\n",
      "    return (a**2+x**2*b**2)/(a**2+(x*c*(a**2+x**2*b**2)-x*b)**2)**(0.5)\n",
      "popt3, pcov3=sp.optimize.curve_fit(theopara,omegapara[:,0],impedpara[:,0],[66,0.37,1.9e-6],impedpara[:,1],absolute_sigma=True)\n",
      "variance3 = np.diagonal(pcov3) #Diagonalelemente der Covarianzmatrix\n",
      "SE3 = np.sqrt(variance3) #Wurzel der Varianz = Standardabweichung\n",
      "x=np.linspace(500,3500,1000)\n",
      "#plt.plot(x,theopara(x,64.4,3.76e-1,1.92e-6),'g-',label=r\"$\\frac{R^2+\\omega^2 L^2}{\\sqrt{R^2+\\left[\\omega C\\left(R^2+\\omega^2 L^2\\right)-\\omega L\\right]^2}}$\")\n",
      "#plt.plot(x,theopara(x,5+68,0.4,1.8e-6),'g-',label=r\"$\\frac{R^2+\\omega^2 L^2}{\\sqrt{R^2+\\left[\\omega C\\left(R^2+\\omega^2 L^2\\right)-\\omega L\\right]^2}}$\")\n",
      "plt.plot(x,theopara(x,*popt3),label=r\"$r(x)=\\frac{R^2+x^2 L^2}{\\sqrt{R^2+\\left[x C\\left(R^2+x^2 L^2\\right)-x L\\right]^2}}$\")\n",
      "plt.errorbar(omegapara[:,0],impedpara[:,0],impedpara[:,1],omegapara[:,1],'ro',markersize=3,label=r'Messwerte')\n",
      "plt.text(2.5e3, 2500, r'$R=70(3)~\\Omega$')\n",
      "plt.text(2.5e3, 2300, r'$L=0.385(5)~$H')\n",
      "plt.text(2.5e3, 2100, r'$C=1.90(2)\\times 10^{-6}~$F')\n",
      "plt.legend(loc=1)\n",
      "\n",
      "\n",
      "\n",
      "\n",
      "plt.savefig(\"plot5.pdf\",transparent=True,format=\"pdf\",bbox_inches='tight')"
     ],
     "language": "python",
     "metadata": {},
     "outputs": [],
     "prompt_number": 22
    },
    {
     "cell_type": "code",
     "collapsed": false,
     "input": [
      "popt3"
     ],
     "language": "python",
     "metadata": {},
     "outputs": [
      {
       "metadata": {},
       "output_type": "pyout",
       "prompt_number": 23,
       "text": [
        "array([  7.03681563e+01,   3.84810747e-01,   1.89623478e-06])"
       ]
      }
     ],
     "prompt_number": 23
    },
    {
     "cell_type": "code",
     "collapsed": false,
     "input": [
      "SE3"
     ],
     "language": "python",
     "metadata": {},
     "outputs": [
      {
       "metadata": {},
       "output_type": "pyout",
       "prompt_number": 24,
       "text": [
        "array([  2.93301437e+00,   4.60052931e-03,   1.93918489e-08])"
       ]
      }
     ],
     "prompt_number": 24
    },
    {
     "cell_type": "code",
     "collapsed": false,
     "input": [
      "impedparasheet.p()"
     ],
     "language": "python",
     "metadata": {},
     "outputs": [
      {
       "latex": [
        "$$Z_0=\\frac{U}{B}$$"
       ],
       "metadata": {},
       "output_type": "display_data",
       "text": [
        "<IPython.core.display.Math at 0x7f3c430c3910>"
       ]
      },
      {
       "output_type": "stream",
       "stream": "stdout",
       "text": [
        "Z_0=\\frac{U}{B}\n",
        "\n"
       ]
      },
      {
       "latex": [
        "$$Z_0=\\left(1.43 \\pm 0.09\\right) \\times 10^{3}$$"
       ],
       "metadata": {},
       "output_type": "display_data",
       "text": [
        "<IPython.core.display.Math at 0x7f3c430c3910>"
       ]
      },
      {
       "output_type": "stream",
       "stream": "stdout",
       "text": [
        "Z_0=\\left(1.43 \\pm 0.09\\right) \\times 10^{3}\n",
        "\n"
       ]
      },
      {
       "latex": [
        "$$\\sigma_{Z_0}=\\frac{1}{B^{2}} \\cdot \\sqrt{B^{2} \\cdot \\sigma_{U}^{2} + U^{2} \\cdot \\sigma_{B}^{2}}$$"
       ],
       "metadata": {},
       "output_type": "display_data",
       "text": [
        "<IPython.core.display.Math at 0x7f3c430c3910>"
       ]
      },
      {
       "output_type": "stream",
       "stream": "stdout",
       "text": [
        "\\sigma_{Z_0}=\\frac{1}{B^{2}} \\cdot \\sqrt{B^{2} \\cdot \\sigma_{U}^{2} + U^{2} \\cdot \\sigma_{B}^{2}}\n",
        "\n"
       ]
      },
      {
       "metadata": {},
       "output_type": "pyout",
       "prompt_number": 25,
       "text": [
        "1425.872093023256+/-85.61194449094056"
       ]
      }
     ],
     "prompt_number": 25
    },
    {
     "cell_type": "code",
     "collapsed": false,
     "input": [
      "#### Zeigerdiagramm:\n",
      "zeiger1=ma.uncertainty.Sheet(\"asin(a/b)\",\"\\\\varphi\")\n",
      "zeiger1.v(\"b\",54.6,0.6,tex=\"U_{L+R}\")\n",
      "zeiger1.v(\"a\",53.5,0.6,tex=\"U_{C}\")\n",
      "zeiger1.p()"
     ],
     "language": "python",
     "metadata": {},
     "outputs": [
      {
       "latex": [
        "$$\\varphi=\\operatorname{asin}{\\left (\\frac{U_{C}}{U_{L+R}} \\right )}$$"
       ],
       "metadata": {},
       "output_type": "display_data",
       "text": [
        "<IPython.core.display.Math at 0x7f3c43f91bd0>"
       ]
      },
      {
       "output_type": "stream",
       "stream": "stdout",
       "text": [
        "\\varphi=\\operatorname{asin}{\\left (\\frac{U_{C}}{U_{L+R}} \\right )}\n",
        "\n"
       ]
      },
      {
       "latex": [
        "$$\\varphi=1.37 \\pm 0.08$$"
       ],
       "metadata": {},
       "output_type": "display_data",
       "text": [
        "<IPython.core.display.Math at 0x7f3c43f91bd0>"
       ]
      },
      {
       "output_type": "stream",
       "stream": "stdout",
       "text": [
        "\\varphi=1.37 \\pm 0.08\n",
        "\n"
       ]
      },
      {
       "latex": [
        "$$\\sigma_{\\varphi}=\\frac{1}{U_{L+R}} \\cdot \\sqrt{\\frac{1}{U_{C}^{2} - U_{L+R}^{2}} \\cdot \\left(- U_{C}^{2} \\cdot \\sigma_{U_{L+R}}^{2} - U_{L+R}^{2} \\cdot \\sigma_{U_{C}}^{2}\\right)}$$"
       ],
       "metadata": {},
       "output_type": "display_data",
       "text": [
        "<IPython.core.display.Math at 0x7f3c43f91bd0>"
       ]
      },
      {
       "output_type": "stream",
       "stream": "stdout",
       "text": [
        "\\sigma_{\\varphi}=\\frac{1}{U_{L+R}} \\cdot \\sqrt{\\frac{1}{U_{C}^{2} - U_{L+R}^{2}} \\cdot \\left(- U_{C}^{2} \\cdot \\sigma_{U_{L+R}}^{2} - U_{L+R}^{2} \\cdot \\sigma_{U_{C}}^{2}\\right)}\n",
        "\n"
       ]
      },
      {
       "metadata": {},
       "output_type": "pyout",
       "prompt_number": 26,
       "text": [
        "1.3697265230452382+/-0.07703402635846902"
       ]
      }
     ],
     "prompt_number": 26
    },
    {
     "cell_type": "code",
     "collapsed": false,
     "input": [
      "###Zusammenfassung\n",
      "\n",
      "Llin=[0.404,0.007]\n",
      "Rlin=[76.,18.]\n",
      "\n",
      "Rfit1=[83.4,0.9]\n",
      "Lfit1=[0.403,0.005]\n",
      "Cfit1=[1.80,0.02]\n",
      "\n",
      "res1=[1174.,3.]\n",
      "res2=[1175.,7.]\n",
      "\n",
      "\n",
      "Lfit2=[0.390,0.005]\n",
      "Cfit2=[1.87,0.03]\n",
      "\n",
      "Rfit3=[70.,3.]\n",
      "Lfit3=[0.385,0.005]\n",
      "Cfit3=[1.90,0.02]\n",
      "\n",
      "Calt=[1.84,0.02]\n",
      "\n",
      "Rmittel=ma.weighted_average([Rfit1,Rlin])\n",
      "Lmittel=ma.weighted_average([Llin,Lfit1,Lfit2,Lfit3])\n",
      "Cmittel=ma.weighted_average([Cfit1,Cfit2,Cfit3,Calt])\n",
      "resm=ma.weighted_average([res1,res2])"
     ],
     "language": "python",
     "metadata": {},
     "outputs": [],
     "prompt_number": 93
    },
    {
     "cell_type": "code",
     "collapsed": false,
     "input": [
      "Rmittel,Lmittel,Cmittel,resm"
     ],
     "language": "python",
     "metadata": {},
     "outputs": [
      {
       "metadata": {},
       "output_type": "pyout",
       "prompt_number": 94,
       "text": [
        "((83.381546134663353, 0.89887710499006024),\n",
        " (0.39431395348837212, 0.0026687249808205818),\n",
        " (1.8496774193548386, 0.010776318121606494),\n",
        " (1174.155172413793, 2.757435090054174))"
       ]
      }
     ],
     "prompt_number": 94
    },
    {
     "cell_type": "code",
     "collapsed": false,
     "input": [
      "tbl1=ma.latex.Table\n",
      "tbl1.add_column([Rlin])"
     ],
     "language": "python",
     "metadata": {},
     "outputs": [
      {
       "ename": "TypeError",
       "evalue": "unbound method add_column() must be called with Table instance as first argument (got list instance instead)",
       "output_type": "pyerr",
       "traceback": [
        "\u001b[0;31m---------------------------------------------------------------------------\u001b[0m\n\u001b[0;31mTypeError\u001b[0m                                 Traceback (most recent call last)",
        "\u001b[0;32m<ipython-input-86-af3e033b44af>\u001b[0m in \u001b[0;36m<module>\u001b[0;34m()\u001b[0m\n\u001b[1;32m      1\u001b[0m \u001b[0mtbl1\u001b[0m\u001b[0;34m=\u001b[0m\u001b[0mma\u001b[0m\u001b[0;34m.\u001b[0m\u001b[0mlatex\u001b[0m\u001b[0;34m.\u001b[0m\u001b[0mTable\u001b[0m\u001b[0;34m\u001b[0m\u001b[0m\n\u001b[0;32m----> 2\u001b[0;31m \u001b[0mtbl1\u001b[0m\u001b[0;34m.\u001b[0m\u001b[0madd_column\u001b[0m\u001b[0;34m(\u001b[0m\u001b[0;34m[\u001b[0m\u001b[0mRlin\u001b[0m\u001b[0;34m]\u001b[0m\u001b[0;34m)\u001b[0m\u001b[0;34m\u001b[0m\u001b[0m\n\u001b[0m",
        "\u001b[0;31mTypeError\u001b[0m: unbound method add_column() must be called with Table instance as first argument (got list instance instead)"
       ]
      }
     ],
     "prompt_number": 86
    },
    {
     "cell_type": "code",
     "collapsed": false,
     "input": [
      "Ri1=[1.5,0.5]\n",
      "Ri2=[11,0.1]\n",
      "Ri=ma.weighted_average([Ri1,Ri2])"
     ],
     "language": "python",
     "metadata": {},
     "outputs": [],
     "prompt_number": 87
    },
    {
     "cell_type": "code",
     "collapsed": false,
     "input": [
      "Ri"
     ],
     "language": "python",
     "metadata": {},
     "outputs": [
      {
       "metadata": {},
       "output_type": "pyout",
       "prompt_number": 88,
       "text": [
        "(10.634615384615383, 0.098058067569092022)"
       ]
      }
     ],
     "prompt_number": 88
    },
    {
     "cell_type": "code",
     "collapsed": false,
     "input": [
      "omres=ma.uncertainty.Sheet('1/(w**2*L)','C_{r,\\\\text{alternativ}}')\n",
      "omres.v('w',resm[0],resm[1],tex='\\overline{\\omega_r}')\n",
      "omres.v('L',Lmittel[0],Lmittel[1],tex='\\overline{L}')\n",
      "omres.p()"
     ],
     "language": "python",
     "metadata": {},
     "outputs": [
      {
       "latex": [
        "$$C_{r,\\text{alternativ}}=\\frac{1}{\\overline{L} \\cdot \\overline{\\omega_r}^{2}}$$"
       ],
       "metadata": {},
       "output_type": "display_data",
       "text": [
        "<IPython.core.display.Math at 0x7f3c40081bd0>"
       ]
      },
      {
       "output_type": "stream",
       "stream": "stdout",
       "text": [
        "C_{r,\\text{alternativ}}=\\frac{1}{\\overline{L} \\cdot \\overline{\\omega_r}^{2}}\n",
        "\n"
       ]
      },
      {
       "latex": [
        "$$C_{r,\\text{alternativ}}=\\left(1.84 \\pm 0.02\\right) \\times 10^{-6}$$"
       ],
       "metadata": {},
       "output_type": "display_data",
       "text": [
        "<IPython.core.display.Math at 0x7f3c40081bd0>"
       ]
      },
      {
       "output_type": "stream",
       "stream": "stdout",
       "text": [
        "C_{r,\\text{alternativ}}=\\left(1.84 \\pm 0.02\\right) \\times 10^{-6}\n",
        "\n"
       ]
      },
      {
       "latex": [
        "$$\\sigma_{C_{r,\\text{alternativ}}}=\\frac{1}{\\overline{L}^{2} \\cdot \\overline{\\omega_r}^{3}} \\cdot \\sqrt{4 \\cdot \\overline{L}^{2} \\cdot \\sigma_{\\overline{\\omega_r}}^{2} + \\sigma_{\\overline{L}}^{2} \\cdot \\overline{\\omega_r}^{2}}$$"
       ],
       "metadata": {},
       "output_type": "display_data",
       "text": [
        "<IPython.core.display.Math at 0x7f3c40081bd0>"
       ]
      },
      {
       "output_type": "stream",
       "stream": "stdout",
       "text": [
        "\\sigma_{C_{r,\\text{alternativ}}}=\\frac{1}{\\overline{L}^{2} \\cdot \\overline{\\omega_r}^{3}} \\cdot \\sqrt{4 \\cdot \\overline{L}^{2} \\cdot \\sigma_{\\overline{\\omega_r}}^{2} + \\sigma_{\\overline{L}}^{2} \\cdot \\overline{\\omega_r}^{2}}\n",
        "\n"
       ]
      },
      {
       "metadata": {},
       "output_type": "pyout",
       "prompt_number": 92,
       "text": [
        "1.8395299502311745e-06+/-1.515429058282902e-08"
       ]
      }
     ],
     "prompt_number": 92
    },
    {
     "cell_type": "code",
     "collapsed": false,
     "input": [
      "versch=ma.uncertainty.Sheet('atan((w*L)/R)',r'\\varphi_{\\text{Theorie}}')\n",
      "versch.v('w',resm[0],resm[1],tex='\\overline{\\omega_r}')\n",
      "versch.v('L',Lmittel[0],Lmittel[1],tex='\\overline{L}')\n",
      "versch.v('R',Rmittel[0],Rmittel[1],tex='\\overline{R}')\n",
      "versch.p()"
     ],
     "language": "python",
     "metadata": {},
     "outputs": [
      {
       "latex": [
        "$$\\varphi_{\\text{Theorie}}=\\operatorname{atan}{\\left (\\frac{\\overline{L}}{\\overline{R}} \\cdot \\overline{\\omega_r} \\right )}$$"
       ],
       "metadata": {},
       "output_type": "display_data",
       "text": [
        "<IPython.core.display.Math at 0x7f3c3fe35cd0>"
       ]
      },
      {
       "output_type": "stream",
       "stream": "stdout",
       "text": [
        "\\varphi_{\\text{Theorie}}=\\operatorname{atan}{\\left (\\frac{\\overline{L}}{\\overline{R}} \\cdot \\overline{\\omega_r} \\right )}\n",
        "\n"
       ]
      },
      {
       "latex": [
        "$$\\varphi_{\\text{Theorie}}=1.393 \\pm 0.002$$"
       ],
       "metadata": {},
       "output_type": "display_data",
       "text": [
        "<IPython.core.display.Math at 0x7f3c3fe35cd0>"
       ]
      },
      {
       "output_type": "stream",
       "stream": "stdout",
       "text": [
        "\\varphi_{\\text{Theorie}}=1.393 \\pm 0.002\n",
        "\n"
       ]
      },
      {
       "latex": [
        "$$\\sigma_{\\varphi_{\\text{Theorie}}}=\\frac{1}{\\overline{L}^{2} \\cdot \\overline{\\omega_r}^{2} + \\overline{R}^{2}} \\cdot \\sqrt{\\overline{L}^{2} \\cdot \\overline{R}^{2} \\cdot \\sigma_{\\overline{\\omega_r}}^{2} + \\overline{L}^{2} \\cdot \\sigma_{\\overline{R}}^{2} \\cdot \\overline{\\omega_r}^{2} + \\overline{R}^{2} \\cdot \\sigma_{\\overline{L}}^{2} \\cdot \\overline{\\omega_r}^{2}}$$"
       ],
       "metadata": {},
       "output_type": "display_data",
       "text": [
        "<IPython.core.display.Math at 0x7f3c3fe35cd0>"
       ]
      },
      {
       "output_type": "stream",
       "stream": "stdout",
       "text": [
        "\\sigma_{\\varphi_{\\text{Theorie}}}=\\frac{1}{\\overline{L}^{2} \\cdot \\overline{\\omega_r}^{2} + \\overline{R}^{2}} \\cdot \\sqrt{\\overline{L}^{2} \\cdot \\overline{R}^{2} \\cdot \\sigma_{\\overline{\\omega_r}}^{2} + \\overline{L}^{2} \\cdot \\sigma_{\\overline{R}}^{2} \\cdot \\overline{\\omega_r}^{2} + \\overline{R}^{2} \\cdot \\sigma_{\\overline{L}}^{2} \\cdot \\overline{\\omega_r}^{2}}\n",
        "\n"
       ]
      },
      {
       "metadata": {},
       "output_type": "pyout",
       "prompt_number": 97,
       "text": [
        "1.3926111115770832+/-0.0022578433897243403"
       ]
      }
     ],
     "prompt_number": 97
    },
    {
     "cell_type": "code",
     "collapsed": false,
     "input": [],
     "language": "python",
     "metadata": {},
     "outputs": []
    }
   ],
   "metadata": {}
  }
 ]
}