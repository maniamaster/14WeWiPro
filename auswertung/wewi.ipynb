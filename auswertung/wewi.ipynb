{
 "metadata": {
  "name": "wewi"
 },
 "nbformat": 3,
 "nbformat_minor": 0,
 "worksheets": [
  {
   "cells": [
    {
     "cell_type": "code",
     "collapsed": false,
     "input": [
      "import maabara as ma\n",
      "import numpy as np\n",
      "import scipy as sp\n",
      "import sympy as sym\n",
      "import matplotlib as mpl \n",
      "import matplotlib.pyplot as plt\n",
      "import math\n",
      "\n",
      "#latex formatting:\n",
      "def latex_float(f):\n",
      "    float_str = \"{0:.2g}\".format(f)\n",
      "    if \"e\" in float_str:\n",
      "        base, exponent = float_str.split(\"e\")\n",
      "        return r\"{0} \\times 10^{{{1}}}\".format(base, int(exponent))\n",
      "    else:\n",
      "        return float_str"
     ],
     "language": "python",
     "metadata": {},
     "outputs": [],
     "prompt_number": 111
    },
    {
     "cell_type": "code",
     "collapsed": false,
     "input": [
      "###Auswertung1:\n",
      "daten=np.loadtxt(\"messung3.dat\")\n",
      "daten2=[1,1,1e-3,1,1,1,1e-3,1]*daten\n",
      "daten2=daten2+[0,0,0,0,0,0,0.27e-3,0]\n",
      "z0=ma.uncertainty.Sheet(\"(U/B)**2\",\"Z_0^2\")\n",
      "#z0.set_value(\"B\",error=0.1e-3)\n",
      "#z0.set_value(\"U\",error=0.01)\n",
      "Impedanzquadrat=z0.batch(daten2,'*|U|B|*|*|U%|B%|*')\n",
      "f=ma.uncertainty.Sheet(\"4*pi**2*f**2\",\"\\omega^2\")\n",
      "Kreisfrequenzquadrat=f.batch(daten2,'f|*|*|*|f%|*|*|*')\n",
      "\n",
      "#Plot1:\n",
      "plt.clf()\n",
      "plt.figure(1)\n",
      "mpl.rcParams['text.usetex']=True\n",
      "mpl.rcParams['text.latex.unicode']=True\n",
      "plt.ticklabel_format(style='sci', axis='both', scilimits=(-3,3))\n",
      "\n",
      "#lineare Regression:\n",
      "m,b,tex=ma.data.linear_fit(Kreisfrequenzquadrat[:,0],Impedanzquadrat[:,0],Impedanzquadrat[:,1])\n",
      "x=np.linspace(0,max(Kreisfrequenzquadrat[:,0]+100))\n",
      "y=m.n*x+b.n\n",
      "plt.plot(x,y,\"b-\",label=\"$\"+tex+\"$\")\n",
      "plt.errorbar(Kreisfrequenzquadrat[:,0],Impedanzquadrat[:,0],Impedanzquadrat[:,1],Kreisfrequenzquadrat[:,1],'ro',markersize=3,label='Messwerte')\n",
      "plt.xlabel(r'Quadrat der Kreisfrequenz $\\omega^2~$[Hz$^2$]')\n",
      "plt.ylabel(r'Quadrat der Impedanz $Z_0^2~$[$\\Omega^2$]')\n",
      "plt.legend(loc=2)\n",
      "plt.savefig(\"plot1.pdf\",transparent=True,format=\"pdf\",bbox_inches='tight')\n"
     ],
     "language": "python",
     "metadata": {},
     "outputs": [
      {
       "output_type": "stream",
       "stream": "stdout",
       "text": [
        "results of linear_fit:\n",
        "   chi squared =  0.16994951786\n",
        "   degrees of freedom =  8\n",
        "   reduced chi squared =  0.0212436897325\n"
       ]
      }
     ],
     "prompt_number": 112
    },
    {
     "cell_type": "code",
     "collapsed": false,
     "input": [
      "#Berechnung von R und L:\n",
      "L=m**(0.5)\n",
      "R=b**(0.5)\n",
      "\n",
      "L,R"
     ],
     "language": "python",
     "metadata": {},
     "outputs": [
      {
       "output_type": "pyout",
       "prompt_number": 113,
       "text": [
        "(0.40426542862166376+/-0.0065665130864476125,\n",
        " 76.4472570377945+/-17.860599517106145)"
       ]
      }
     ],
     "prompt_number": 113
    },
    {
     "cell_type": "code",
     "collapsed": false,
     "input": [
      "###Auswertung2':\n",
      "serie1=np.loadtxt(\"messung4.dat\")\n",
      "serie=[1,1,1e-3,1e-3]*serie1\n",
      "serie=serie+[0,0,0,0.27e-3]\n",
      "f2=ma.uncertainty.Sheet(\"2*pi*f\",\"\\omega\")\n",
      "f2.set_value('f', error=1) \n",
      "#Berechnung von omega^2:\n",
      "omega=f2.batch(serie,'f|*|*|*')\n",
      "#Berechnung von z_o^2:\n",
      "z02=ma.uncertainty.Sheet(\"U/B\",\"Z_0\")\n",
      "z02.set_value('U',error=0.1)\n",
      "#z02.set_value('B',error=0.1e-3,tex='I')\n",
      "imped=z02.batch(serie,'*|U|B|B%')\n",
      "#Plotten:\n",
      "plt.clf()\n",
      "plt.figure(2)\n",
      "mpl.rcParams['text.usetex']=True\n",
      "mpl.rcParams['text.latex.unicode']=True\n",
      "plt.ticklabel_format(style='sci', axis='both', scilimits=(-3,3))\n",
      "plt.xlabel(r'Kreisfrequenz $\\omega~$[Hz]')\n",
      "plt.ylabel(r'Impedanz $Z_0~$[$\\Omega$]')\n",
      "\n",
      "\n",
      "#Theoriekurve:\n",
      "#x=np.linspace(300,2800)\n",
      "impedtheorie=((100)**2+(0.405*x-(1/(x*2.193e-6)))**2)**(0.5)\n",
      "\n",
      "#Theoriekurve fitten:\n",
      "def theo(x,a,b,c):\n",
      "    return (a**2+(b*x-(1/(x*c)))**2)**(0.5)\n",
      "popt1, pcov1=sp.optimize.curve_fit(theo,omega[:,0],imped[:,0],[88,0.4,2e-6],imped[:,1])\n",
      "variance = np.diagonal(pcov1) #Diagonalelemente der Covarianzmatrix\n",
      "SE = np.sqrt(variance) #Wurzel der Varianz = Standardabweichung\n",
      "#tex=\"r(x)=\\\\sqrt{\"+\"{:.2g}\".format(popt[0])+\"^2+\\\\left(x\\\\cdot \"+\"{:.2g}\".format(popt[1])+\"-\\\\frac{1}{x \"+\"{:.2g}\".format(popt[2])+\"}\\\\right)^2}\"\n",
      "x=np.linspace(500,3000,1000)\n",
      "plt.plot(x,theo(x,*popt1),label=\"$r(x)=\\\\sqrt{R^2+\\\\left(x\\\\cdot L-\\\\frac{1}{x\\\\cdot C}\\\\right)^2}$\")\n",
      "plt.errorbar(omega[:,0],imped[:,0],imped[:,1],omega[:,1],'ro',markersize=1,label='Messwerte')\n",
      "plt.legend(loc=2)\n",
      "plt.text(2e3, 180, r'$R=83.4(3)~\\Omega$')\n",
      "plt.text(2e3, 120, r'$L=0.402(2)~$H')\n",
      "plt.text(2e3, 60, r'$C=1.804(8)\\times 10^{-6}~$F')\n",
      "\n",
      "plt.savefig(\"plot2.pdf\",transparent=True,format=\"pdf\",bbox_inches='tight')"
     ],
     "language": "python",
     "metadata": {},
     "outputs": [],
     "prompt_number": 114
    },
    {
     "cell_type": "code",
     "collapsed": false,
     "input": [
      "z02.p()"
     ],
     "language": "python",
     "metadata": {},
     "outputs": [
      {
       "latex": [
        "$$Z_0=\\frac{U}{B}$$"
       ],
       "output_type": "display_data",
       "text": [
        "<IPython.core.display.Math at 0x703efd0>"
       ]
      },
      {
       "output_type": "stream",
       "stream": "stdout",
       "text": [
        "Z_0=\\frac{U}{B}\n",
        "\n"
       ]
      },
      {
       "latex": [
        "$$Z_0=162.2 \\pm 3.8$$"
       ],
       "output_type": "display_data",
       "text": [
        "<IPython.core.display.Math at 0x703efd0>"
       ]
      },
      {
       "output_type": "stream",
       "stream": "stdout",
       "text": [
        "Z_0=162.2 \\pm 3.8\n",
        "\n"
       ]
      },
      {
       "latex": [
        "$$\\sigma_{Z_0}=\\frac{1}{B^{2}} \\cdot \\sqrt{B^{2} \\cdot \\sigma_{U}^{2} + U^{2} \\cdot \\sigma_{B}^{2}}$$"
       ],
       "output_type": "display_data",
       "text": [
        "<IPython.core.display.Math at 0xc776610>"
       ]
      },
      {
       "output_type": "stream",
       "stream": "stdout",
       "text": [
        "\\sigma_{Z_0}=\\frac{1}{B^{2}} \\cdot \\sqrt{B^{2} \\cdot \\sigma_{U}^{2} + U^{2} \\cdot \\sigma_{B}^{2}}\n",
        "\n"
       ]
      },
      {
       "output_type": "pyout",
       "prompt_number": 115,
       "text": [
        "162.2296173044925+/-3.8106077080695826"
       ]
      }
     ],
     "prompt_number": 115
    },
    {
     "cell_type": "code",
     "collapsed": false,
     "input": [
      "popt1"
     ],
     "language": "python",
     "metadata": {},
     "outputs": [
      {
       "output_type": "pyout",
       "prompt_number": 116,
       "text": [
        "array([  8.33954319e+01,   4.03098431e-01,   1.79966214e-06])"
       ]
      }
     ],
     "prompt_number": 116
    },
    {
     "cell_type": "code",
     "collapsed": false,
     "input": [
      "pcov1"
     ],
     "language": "python",
     "metadata": {},
     "outputs": [
      {
       "output_type": "pyout",
       "prompt_number": 117,
       "text": [
        "array([[  9.26596299e-02,  -1.94912684e-04,   8.46622718e-10],\n",
        "       [ -1.94912684e-04,   2.07033022e-06,  -8.98572128e-12],\n",
        "       [  8.46622718e-10,  -8.98572128e-12,   4.12946541e-17]])"
       ]
      }
     ],
     "prompt_number": 117
    },
    {
     "cell_type": "code",
     "collapsed": false,
     "input": [
      "SE"
     ],
     "language": "python",
     "metadata": {},
     "outputs": [
      {
       "output_type": "pyout",
       "prompt_number": 118,
       "text": [
        "array([  3.04400443e-01,   1.43886421e-03,   6.42609166e-09])"
       ]
      }
     ],
     "prompt_number": 118
    },
    {
     "cell_type": "code",
     "collapsed": false,
     "input": [
      "###Phasenverschiebung Serienkreis:\n",
      "phase=np.loadtxt(\"phasenverschiebung.dat\")\n",
      "plt.clf()\n",
      "plt.figure(3)\n",
      "mpl.rcParams['text.usetex']=True\n",
      "mpl.rcParams['text.latex.unicode']=True\n",
      "plt.ticklabel_format(style='sci', axis='both', scilimits=(-3,3))\n",
      "f3=ma.uncertainty.Sheet(\"2*pi*f\",\"\\omega\")\n",
      "f3.set_value('f', error=1)\n",
      "omega2=f3.batch(phase,'f|*')\n",
      "phisheet=ma.uncertainty.Sheet(\"2*pi/360*p\",'\\varphi')\n",
      "phisheet.v('p',error=1)\n",
      "phi=phisheet.batch(phase,'*|p')\n",
      "plt.xlabel(r'Kreisfrequenz $\\omega~$[Hz]')\n",
      "plt.ylabel(r'Phasenverschiebung $\\varphi~$[rad]')\n",
      "plt.ylim(-0.5*np.pi,0.5*np.pi)\n",
      "plt.yticks([0., np.pi/8, 2*np.pi/8, 3*np.pi/8, 4*np.pi/8, -np.pi/8, -2*np.pi/8, -3*np.pi/8, -4*np.pi/8],[\"0\", r\"$\\frac{1}{8}\\pi$\",\n",
      "                     r\"$\\frac{1}{4}\\pi$\", r\"$\\frac{3}{8}\\pi$\", r\"$\\frac{1}{2}\\pi$\", r\"$-\\frac{1}{8}\\pi$\",\n",
      "                     r\"$-\\frac{1}{4}\\pi$\", r\"$-\\frac{3}{8}\\pi$\", r\"$-\\frac{1}{2}\\pi$\"])\n",
      "\n",
      "\n",
      "#Theoriekurve fitten:\n",
      "def theophase(x,a,b,c):#x=freq. ,a=R, b=L, c=C\n",
      "    return np.arctan((x*b-1/(x*c))/a)\n",
      "popt2, pcov2=sp.optimize.curve_fit(theophase,omega2[:,0],phi[:,0],[69,0.4,1.8e-6])#,phi[:,1])\n",
      "variance2 = np.diagonal(pcov2) #Diagonalelemente der Covarianzmatrix\n",
      "SE2 = np.sqrt(variance2) #Wurzel der Varianz = Standardabweichung\n",
      "#Theokurve plotten:\n",
      "x=np.linspace(600,3000,1000)\n",
      "plt.plot(x,theophase(x,*popt2),label=r\"$r(x)=\\arctan\\left(\\frac{x\\cdot L-\\frac{1}{x\\cdot C}}{R}\\right)$\")\n",
      "plt.errorbar(omega2[:,0],phi[:,0],phi[:,1],omega2[:,1],'ro',markersize=1,label='Messwerte')\n",
      "plt.legend(loc=4)\n",
      "plt.savefig(\"plot3.pdf\",transparent=True,format=\"pdf\",bbox_inches='tight')"
     ],
     "language": "python",
     "metadata": {},
     "outputs": [],
     "prompt_number": 119
    },
    {
     "cell_type": "code",
     "collapsed": false,
     "input": [
      "popt2"
     ],
     "language": "python",
     "metadata": {},
     "outputs": [
      {
       "output_type": "pyout",
       "prompt_number": 120,
       "text": [
        "array([  7.56595732e+01,   3.53520605e-01,   2.06160287e-06])"
       ]
      }
     ],
     "prompt_number": 120
    },
    {
     "cell_type": "code",
     "collapsed": false,
     "input": [
      "SE2"
     ],
     "language": "python",
     "metadata": {},
     "outputs": [
      {
       "output_type": "pyout",
       "prompt_number": 121,
       "text": [
        "array([  6.50078387e+03,   3.03748791e+01,   1.77146965e-04])"
       ]
      }
     ],
     "prompt_number": 121
    },
    {
     "cell_type": "code",
     "collapsed": false,
     "input": [
      "### U U_C U_{L+R} ~~~~~~~  Plot 3:\n",
      "plt.clf()\n",
      "plt.figure(4)\n",
      "mpl.rcParams['text.usetex']=True\n",
      "mpl.rcParams['text.latex.unicode']=True\n",
      "plt.ticklabel_format(style='sci', axis='both', scilimits=(-3,3))\n",
      "spannungen=np.loadtxt(\"spannungen.dat\")\n",
      "spannungen=np.c_[spannungen,spannungen[:,1]*1/100+0.03,spannungen[:,2]*1/100+0.03,spannungen[:,3]*1/100+0.03]\n",
      "f4=ma.uncertainty.Sheet(\"2*pi*f\",\"\\omega\")\n",
      "f4.v('f',error=1)\n",
      "omega3=f4.batch(spannungen,'f|*|*|*|*|*|*')\n",
      "plt.errorbar(omega3[:,0],spannungen[:,1],spannungen[:,4],omega3[:,1],'go',markersize=4,label=r'$U$')\n",
      "plt.errorbar(omega3[:,0],spannungen[:,2],spannungen[:,5],omega3[:,1],'bx',markersize=5,label=r'$U_{L+R}$')\n",
      "plt.errorbar(omega3[:,0],spannungen[:,3],spannungen[:,6],omega3[:,1],'r+',markersize=5,label=r'$U_C$')\n",
      "plt.xlabel(r'Kreisfrequenz $\\omega~$[Hz]')\n",
      "plt.ylabel(r'Spannung $U~$[V]')\n",
      "plt.legend(loc=1)\n",
      "plt.xlim(500,2600)\n",
      "plt.savefig(\"plot4.pdf\",transparent=True,format=\"pdf\",bbox_inches='tight')"
     ],
     "language": "python",
     "metadata": {},
     "outputs": [],
     "prompt_number": 122
    },
    {
     "cell_type": "code",
     "collapsed": false,
     "input": [
      "spannungen"
     ],
     "language": "python",
     "metadata": {},
     "outputs": [
      {
       "output_type": "pyout",
       "prompt_number": 123,
       "text": [
        "array([[  1.10000000e+02,   9.76000000e+00,   5.38000000e+00,\n",
        "          1.48600000e+01,   1.27600000e-01,   8.38000000e-02,\n",
        "          1.78600000e-01],\n",
        "       [  1.48000000e+02,   9.77000000e+00,   1.57700000e+01,\n",
        "          2.45000000e+01,   1.27700000e-01,   1.87700000e-01,\n",
        "          2.75000000e-01],\n",
        "       [  2.01000000e+02,   9.66000000e+00,   4.60000000e+01,\n",
        "          3.90000000e+01,   1.26600000e-01,   4.90000000e-01,\n",
        "          4.20000000e-01],\n",
        "       [  2.42000000e+02,   9.79000000e+00,   2.34000000e+01,\n",
        "          1.38000000e+01,   1.27900000e-01,   2.64000000e-01,\n",
        "          1.68000000e-01],\n",
        "       [  3.00000000e+02,   9.80000000e+00,   1.60100000e+01,\n",
        "          6.24000000e+00,   1.28000000e-01,   1.90100000e-01,\n",
        "          9.24000000e-02],\n",
        "       [  3.50000000e+02,   9.81000000e+00,   1.37400000e+01,\n",
        "          3.93000000e+00,   1.28100000e-01,   1.67400000e-01,\n",
        "          6.93000000e-02],\n",
        "       [  4.00000000e+02,   9.81000000e+00,   1.26100000e+01,\n",
        "          2.75000000e+00,   1.28100000e-01,   1.56100000e-01,\n",
        "          5.75000000e-02],\n",
        "       [  1.55000000e+02,   9.76000000e+00,   1.98200000e+01,\n",
        "          2.82000000e+01,   1.27600000e-01,   2.28200000e-01,\n",
        "          3.12000000e-01],\n",
        "       [  1.60000000e+02,   9.75000000e+00,   2.39000000e+01,\n",
        "          3.19000000e+01,   1.27500000e-01,   2.69000000e-01,\n",
        "          3.49000000e-01],\n",
        "       [  1.66000000e+02,   9.72000000e+00,   3.01000000e+01,\n",
        "          3.73000000e+01,   1.27200000e-01,   3.31000000e-01,\n",
        "          4.03000000e-01],\n",
        "       [  1.73000000e+02,   9.65000000e+00,   3.94000000e+01,\n",
        "          4.50000000e+01,   1.26500000e-01,   4.24000000e-01,\n",
        "          4.80000000e-01],\n",
        "       [  1.78000000e+02,   9.57000000e+00,   4.60000000e+01,\n",
        "          4.98000000e+01,   1.25700000e-01,   4.90000000e-01,\n",
        "          5.28000000e-01],\n",
        "       [  1.81000000e+02,   9.51000000e+00,   5.05000000e+01,\n",
        "          5.25000000e+01,   1.25100000e-01,   5.35000000e-01,\n",
        "          5.55000000e-01],\n",
        "       [  1.87000000e+02,   9.47000000e+00,   5.46000000e+01,\n",
        "          5.35000000e+01,   1.24700000e-01,   5.76000000e-01,\n",
        "          5.65000000e-01],\n",
        "       [  1.92000000e+02,   9.50000000e+00,   5.41000000e+01,\n",
        "          5.05000000e+01,   1.25000000e-01,   5.71000000e-01,\n",
        "          5.35000000e-01],\n",
        "       [  1.98000000e+02,   9.60000000e+00,   4.90000000e+01,\n",
        "          4.28000000e+01,   1.26000000e-01,   5.20000000e-01,\n",
        "          4.58000000e-01],\n",
        "       [  2.04000000e+02,   9.68000000e+00,   4.33000000e+01,\n",
        "          3.57000000e+01,   1.26800000e-01,   4.63000000e-01,\n",
        "          3.87000000e-01],\n",
        "       [  2.09000000e+02,   9.71000000e+00,   3.87000000e+01,\n",
        "          3.04000000e+01,   1.27100000e-01,   4.17000000e-01,\n",
        "          3.34000000e-01],\n",
        "       [  2.17000000e+02,   9.75000000e+00,   3.35000000e+01,\n",
        "          2.46000000e+01,   1.27500000e-01,   3.65000000e-01,\n",
        "          2.76000000e-01]])"
       ]
      }
     ],
     "prompt_number": 123
    },
    {
     "cell_type": "code",
     "collapsed": false,
     "input": [
      "omega3"
     ],
     "language": "python",
     "metadata": {},
     "outputs": [
      {
       "output_type": "pyout",
       "prompt_number": 124,
       "text": [
        "array([[  691.15038379,     6.28318531],\n",
        "       [  929.91142546,     6.28318531],\n",
        "       [ 1262.92024674,     6.28318531],\n",
        "       [ 1520.53084434,     6.28318531],\n",
        "       [ 1884.95559215,     6.28318531],\n",
        "       [ 2199.11485751,     6.28318531],\n",
        "       [ 2513.27412287,     6.28318531],\n",
        "       [  973.89372261,     6.28318531],\n",
        "       [ 1005.30964915,     6.28318531],\n",
        "       [ 1043.00876099,     6.28318531],\n",
        "       [ 1086.99105814,     6.28318531],\n",
        "       [ 1118.40698468,     6.28318531],\n",
        "       [ 1137.2565406 ,     6.28318531],\n",
        "       [ 1174.95565244,     6.28318531],\n",
        "       [ 1206.37157898,     6.28318531],\n",
        "       [ 1244.07069082,     6.28318531],\n",
        "       [ 1281.76980266,     6.28318531],\n",
        "       [ 1313.1857292 ,     6.28318531],\n",
        "       [ 1363.45121166,     6.28318531]])"
       ]
      }
     ],
     "prompt_number": 124
    },
    {
     "cell_type": "code",
     "collapsed": false,
     "input": [
      "### Parallelkreis ~~~~~ :\n",
      "plt.clf()\n",
      "plt.figure(5)\n",
      "mpl.rcParams['text.usetex']=True\n",
      "mpl.rcParams['text.latex.unicode']=True\n",
      "plt.ticklabel_format(style='sci', axis='both', scilimits=(-3,3))\n",
      "\n",
      "parallel=np.loadtxt(\"parallelkreis.dat\")\n",
      "parallel=[1,1,1e-3]*parallel\n",
      "parallel=np.c_[parallel,parallel[:,1]*1/100+0.03,parallel[:,2]*1.5/100+0.3e-3]\n",
      "omegaparasheet=ma.uncertainty.Sheet(\"2*pi*f\",'\\omega')\n",
      "omegaparasheet.v('f',error=1)\n",
      "omegapara=omegaparasheet.batch(parallel,'f|*|*|*|*')\n",
      "\n",
      "impedparasheet=ma.uncertainty.Sheet(\"U/B\",'Z_0')\n",
      "#impedparasheet.v('U',error=0.01)\n",
      "#impedparasheet.v('B',error=0.1e-3)\n",
      "impedpara=impedparasheet.batch(parallel,'*|U|B|U%|B%')\n",
      "\n",
      "plt.xlabel(r'Kreisfrequenz $\\omega~$[Hz]')\n",
      "plt.ylabel(r'Impedanz $Z_0~$[$\\Omega$]')\n",
      "\n",
      "#Theoriekurve fitten:\n",
      "def theopara(x,a,b,c):#x=freq. ,a=R, b=L, c=C\n",
      "    return (a**2+x**2*b**2)/(a**2+(x*c*(a**2+x**2*b**2)-x*b)**2)**(0.5)\n",
      "popt3, pcov3=sp.optimize.curve_fit(theopara,omegapara[:,0],impedpara[:,0],[66,0.37,1.9e-6],impedpara[:,1])\n",
      "variance3 = np.diagonal(pcov3) #Diagonalelemente der Covarianzmatrix\n",
      "SE3 = np.sqrt(variance3) #Wurzel der Varianz = Standardabweichung\n",
      "x=np.linspace(500,3500,1000)\n",
      "#plt.plot(x,theopara(x,64.4,3.76e-1,1.92e-6),'g-',label=r\"$\\frac{R^2+\\omega^2 L^2}{\\sqrt{R^2+\\left[\\omega C\\left(R^2+\\omega^2 L^2\\right)-\\omega L\\right]^2}}$\")\n",
      "plt.plot(x,theopara(x,5+68,0.4,1.8e-6),'g-',label=r\"$\\frac{R^2+\\omega^2 L^2}{\\sqrt{R^2+\\left[\\omega C\\left(R^2+\\omega^2 L^2\\right)-\\omega L\\right]^2}}$\")\n",
      "plt.plot(x,theopara(x,*popt3),label=r\"$\\frac{R^2+\\omega^2 L^2}{\\sqrt{R^2+\\left[\\omega C\\left(R^2+\\omega^2 L^2\\right)-\\omega L\\right]^2}}$\")\n",
      "plt.errorbar(omegapara[:,0],impedpara[:,0],impedpara[:,1],omegapara[:,1],'ro',markersize=3,label=r'Messwerte')\n",
      "plt.legend(loc=1)\n",
      "\n",
      "\n",
      "\n",
      "\n",
      "plt.savefig(\"plot5.pdf\",transparent=True,format=\"pdf\",bbox_inches='tight')"
     ],
     "language": "python",
     "metadata": {},
     "outputs": [
      {
       "ename": "NameError",
       "evalue": "name 'ax' is not defined",
       "output_type": "pyerr",
       "traceback": [
        "\u001b[1;31m---------------------------------------------------------------------------\u001b[0m\n\u001b[1;31mNameError\u001b[0m                                 Traceback (most recent call last)",
        "\u001b[1;32m<ipython-input-134-c629bc95ad80>\u001b[0m in \u001b[0;36m<module>\u001b[1;34m()\u001b[0m\n\u001b[0;32m     37\u001b[0m \u001b[1;32mfrom\u001b[0m \u001b[0mmpl_toolkits\u001b[0m\u001b[1;33m.\u001b[0m\u001b[0maxes_grid1\u001b[0m\u001b[1;33m.\u001b[0m\u001b[0minset_locator\u001b[0m \u001b[1;32mimport\u001b[0m \u001b[0mzoomed_inset_axes\u001b[0m\u001b[1;33m\u001b[0m\u001b[0m\n\u001b[0;32m     38\u001b[0m \u001b[1;32mfrom\u001b[0m \u001b[0mmpl_toolkits\u001b[0m\u001b[1;33m.\u001b[0m\u001b[0maxes_grid1\u001b[0m\u001b[1;33m.\u001b[0m\u001b[0minset_locator\u001b[0m \u001b[1;32mimport\u001b[0m \u001b[0mmark_inset\u001b[0m\u001b[1;33m\u001b[0m\u001b[0m\n\u001b[1;32m---> 39\u001b[1;33m \u001b[0mmark_inset\u001b[0m\u001b[1;33m(\u001b[0m\u001b[0max\u001b[0m\u001b[1;33m,\u001b[0m \u001b[0maxins\u001b[0m\u001b[1;33m,\u001b[0m \u001b[0mloc1\u001b[0m\u001b[1;33m=\u001b[0m\u001b[1;36m2\u001b[0m\u001b[1;33m,\u001b[0m \u001b[0mloc2\u001b[0m\u001b[1;33m=\u001b[0m\u001b[1;36m4\u001b[0m\u001b[1;33m,\u001b[0m \u001b[0mfc\u001b[0m\u001b[1;33m=\u001b[0m\u001b[1;34m\"none\"\u001b[0m\u001b[1;33m,\u001b[0m \u001b[0mec\u001b[0m\u001b[1;33m=\u001b[0m\u001b[1;34m\"0.5\"\u001b[0m\u001b[1;33m)\u001b[0m\u001b[1;33m\u001b[0m\u001b[0m\n\u001b[0m\u001b[0;32m     40\u001b[0m \u001b[1;33m\u001b[0m\u001b[0m\n\u001b[0;32m     41\u001b[0m \u001b[0mplt\u001b[0m\u001b[1;33m.\u001b[0m\u001b[0msavefig\u001b[0m\u001b[1;33m(\u001b[0m\u001b[1;34m\"plot5.pdf\"\u001b[0m\u001b[1;33m,\u001b[0m\u001b[0mtransparent\u001b[0m\u001b[1;33m=\u001b[0m\u001b[0mTrue\u001b[0m\u001b[1;33m,\u001b[0m\u001b[0mformat\u001b[0m\u001b[1;33m=\u001b[0m\u001b[1;34m\"pdf\"\u001b[0m\u001b[1;33m,\u001b[0m\u001b[0mbbox_inches\u001b[0m\u001b[1;33m=\u001b[0m\u001b[1;34m'tight'\u001b[0m\u001b[1;33m)\u001b[0m\u001b[1;33m\u001b[0m\u001b[0m\n",
        "\u001b[1;31mNameError\u001b[0m: name 'ax' is not defined"
       ]
      }
     ],
     "prompt_number": 134
    },
    {
     "cell_type": "code",
     "collapsed": false,
     "input": [
      "popt3"
     ],
     "language": "python",
     "metadata": {},
     "outputs": [
      {
       "output_type": "pyout",
       "prompt_number": 126,
       "text": [
        "array([  6.72720570e+01,   3.78786472e-01,   1.91657406e-06])"
       ]
      }
     ],
     "prompt_number": 126
    },
    {
     "cell_type": "code",
     "collapsed": false,
     "input": [
      "SE3"
     ],
     "language": "python",
     "metadata": {},
     "outputs": [
      {
       "output_type": "pyout",
       "prompt_number": 127,
       "text": [
        "array([  1.74791043e+00,   3.80312029e-03,   1.85225599e-08])"
       ]
      }
     ],
     "prompt_number": 127
    },
    {
     "cell_type": "code",
     "collapsed": false,
     "input": [
      "impedparasheet.p()"
     ],
     "language": "python",
     "metadata": {},
     "outputs": [
      {
       "latex": [
        "$$Z_0=\\frac{U}{B}$$"
       ],
       "output_type": "display_data",
       "text": [
        "<IPython.core.display.Math at 0x6c39590>"
       ]
      },
      {
       "output_type": "stream",
       "stream": "stdout",
       "text": [
        "Z_0=\\frac{U}{B}\n",
        "\n"
       ]
      },
      {
       "latex": [
        "$$Z_0=\\left(1.43 \\pm 0.03\\right) \\times 10^{3}$$"
       ],
       "output_type": "display_data",
       "text": [
        "<IPython.core.display.Math at 0x8757c50>"
       ]
      },
      {
       "output_type": "stream",
       "stream": "stdout",
       "text": [
        "Z_0=\\left(1.43 \\pm 0.03\\right) \\times 10^{3}\n",
        "\n"
       ]
      },
      {
       "latex": [
        "$$\\sigma_{Z_0}=\\frac{1}{B^{2}} \\cdot \\sqrt{B^{2} \\cdot \\sigma_{U}^{2} + U^{2} \\cdot \\sigma_{B}^{2}}$$"
       ],
       "output_type": "display_data",
       "text": [
        "<IPython.core.display.Math at 0x8757c50>"
       ]
      },
      {
       "output_type": "stream",
       "stream": "stdout",
       "text": [
        "\\sigma_{Z_0}=\\frac{1}{B^{2}} \\cdot \\sqrt{B^{2} \\cdot \\sigma_{U}^{2} + U^{2} \\cdot \\sigma_{B}^{2}}\n",
        "\n"
       ]
      },
      {
       "output_type": "pyout",
       "prompt_number": 128,
       "text": [
        "1425.872093023256+/-33.297752321068856"
       ]
      }
     ],
     "prompt_number": 128
    },
    {
     "cell_type": "code",
     "collapsed": false,
     "input": [],
     "language": "python",
     "metadata": {},
     "outputs": [],
     "prompt_number": 128
    }
   ],
   "metadata": {}
  }
 ]
}