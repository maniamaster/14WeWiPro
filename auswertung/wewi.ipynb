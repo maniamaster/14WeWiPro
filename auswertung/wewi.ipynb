{
 "metadata": {
  "name": "wewi"
 },
 "nbformat": 3,
 "nbformat_minor": 0,
 "worksheets": [
  {
   "cells": [
    {
     "cell_type": "code",
     "collapsed": false,
     "input": [
      "import maabara as ma\n",
      "import numpy as np\n",
      "import scipy as sp\n",
      "import sympy as sym\n",
      "import matplotlib as mpl \n",
      "import matplotlib.pyplot as plt\n",
      "import math\n",
      "\n",
      "#latex formatting:\n",
      "def latex_float(f):\n",
      "    float_str = \"{0:.2g}\".format(f)\n",
      "    if \"e\" in float_str:\n",
      "        base, exponent = float_str.split(\"e\")\n",
      "        return r\"{0} \\times 10^{{{1}}}\".format(base, int(exponent))\n",
      "    else:\n",
      "        return float_str"
     ],
     "language": "python",
     "metadata": {},
     "outputs": [],
     "prompt_number": 1
    },
    {
     "cell_type": "code",
     "collapsed": false,
     "input": [
      "###Auswertung1:\n",
      "daten=np.loadtxt(\"messung3.dat\")\n",
      "daten2=[1,1,1e-3,1,1,1,1e-3,1]*daten\n",
      "#daten2=daten2+[0,0,0,0,0,0,0.27e-3,0]\n",
      "z0=ma.uncertainty.Sheet(\"(U/B)**2\",\"Z_0^2\")\n",
      "z0.set_value(\"B\",error=0.1e-3)\n",
      "z0.set_value(\"U\",error=0.01)\n",
      "Impedanzquadrat=z0.batch(daten2,'*|U|B|*|*|*|*|*')\n",
      "f=ma.uncertainty.Sheet(\"4*pi**2*f**2\",\"\\omega^2\")\n",
      "Kreisfrequenzquadrat=f.batch(daten2,'f|*|*|*|f%|*|*|*')\n",
      "\n",
      "#Plot1:\n",
      "plt.clf()\n",
      "plt.figure(1)\n",
      "mpl.rcParams['text.usetex']=True\n",
      "mpl.rcParams['text.latex.unicode']=True\n",
      "plt.ticklabel_format(style='sci', axis='both', scilimits=(-3,3))\n",
      "\n",
      "#lineare Regression:\n",
      "m,b,tex=ma.data.linear_fit(Kreisfrequenzquadrat[:,0],Impedanzquadrat[:,0],Impedanzquadrat[:,1])\n",
      "x=np.linspace(0,max(Kreisfrequenzquadrat[:,0]+100))\n",
      "y=m.n*x+b.n\n",
      "plt.plot(x,y,\"b-\",label=\"$\"+tex+\"$\")\n",
      "plt.errorbar(Kreisfrequenzquadrat[:,0],Impedanzquadrat[:,0],Impedanzquadrat[:,1],Kreisfrequenzquadrat[:,1],'ro',markersize=3,label='Messwerte')\n",
      "plt.xlabel(r'Quadrat der Kreisfrequenz $\\omega^2~$[Hz$^2$]')\n",
      "plt.ylabel(r'Quadrat der Impedanz $Z_0^2~$[$\\Omega^2$]')\n",
      "plt.legend(loc=2)\n",
      "plt.savefig(\"plot1.pdf\",transparent=True,format=\"pdf\",bbox_inches='tight')\n"
     ],
     "language": "python",
     "metadata": {},
     "outputs": [
      {
       "output_type": "stream",
       "stream": "stdout",
       "text": [
        "results of linear_fit:\n",
        "   chi squared =  5.23350197117\n",
        "   degrees of freedom =  8\n",
        "   reduced chi squared =  0.654187746396\n"
       ]
      }
     ],
     "prompt_number": 29
    },
    {
     "cell_type": "code",
     "collapsed": false,
     "input": [
      "#Berechnung von R und L:\n",
      "L=m**(0.5)\n",
      "R=b**(0.5)\n",
      "\n",
      "L,R"
     ],
     "language": "python",
     "metadata": {},
     "outputs": [
      {
       "output_type": "pyout",
       "prompt_number": 30,
       "text": [
        "(0.40335894796031857+/-0.0010658805067287158,\n",
        " 78.29984031755441+/-2.1367354968018692)"
       ]
      }
     ],
     "prompt_number": 30
    },
    {
     "cell_type": "code",
     "collapsed": false,
     "input": [
      "###Auswertung2':\n",
      "serie1=np.loadtxt(\"messung4.dat\")\n",
      "serie=[1,1,1e-3,1e-3]*serie1\n",
      "#serie=serie+[0,0,0,0.27e-3]\n",
      "f2=ma.uncertainty.Sheet(\"2*pi*f\",\"\\omega\")\n",
      "f2.set_value('f', error=1) \n",
      "#Berechnung von omega^2:\n",
      "omega=f2.batch(serie,'f|*|*|*')\n",
      "#Berechnung von z_o^2:\n",
      "z02=ma.uncertainty.Sheet(\"U/B\",\"Z_0\")\n",
      "z02.set_value('U',error=0.01)\n",
      "z02.set_value('B',error=0.1e-3)\n",
      "imped=z02.batch(serie,'*|U|B|*')\n",
      "#Plotten:\n",
      "plt.clf()\n",
      "plt.figure(2)\n",
      "mpl.rcParams['text.usetex']=True\n",
      "mpl.rcParams['text.latex.unicode']=True\n",
      "plt.ticklabel_format(style='sci', axis='both', scilimits=(-3,3))\n",
      "plt.errorbar(omega[:,0],imped[:,0],imped[:,1],omega[:,1],'ro',markersize=1,label='Messwerte')\n",
      "plt.xlabel(r'Kreisfrequenz $\\omega~$[Hz]')\n",
      "plt.ylabel(r'Impedanz $Z_0~$[$\\Omega$]')\n",
      "\n",
      "\n",
      "#Theoriekurve:\n",
      "#x=np.linspace(300,2800)\n",
      "impedtheorie=((100)**2+(0.405*x-(1/(x*2.193e-6)))**2)**(0.5)\n",
      "\n",
      "#Theoriekurve fitten:\n",
      "def theo(x,a,b,c):\n",
      "    return (a**2+(b*x-(1/(x*c)))**2)**(0.5)\n",
      "popt, pcov=sp.optimize.curve_fit(theo,omega[:,0],imped[:,0],[88,0.4,2e-6],imped[:,1])\n",
      "variance = np.diagonal(pcov) #Diagonalelemente der Covarianzmatrix\n",
      "SE = np.sqrt(variance) #Qurzel der Varianz = Standardabweichung\n",
      "#tex=\"r(x)=\\\\sqrt{\"+\"{:.2g}\".format(popt[0])+\"^2+\\\\left(x\\\\cdot \"+\"{:.2g}\".format(popt[1])+\"-\\\\frac{1}{x \"+\"{:.2g}\".format(popt[2])+\"}\\\\right)^2}\"\n",
      "x=np.linspace(500,3000,1000)\n",
      "plt.plot(x,theo(x,*popt),label=\"$r(x)=\\\\sqrt{R^2+\\\\left(x\\\\cdot L-\\\\frac{1}{x\\\\cdot C}\\\\right)^2}$\")\n",
      "plt.legend(loc=2)\n",
      "plt.text(2e3, 180, r'$R=83.4(3)~\\Omega$')\n",
      "plt.text(2e3, 120, r'$L=0.402(2)~$H')\n",
      "plt.text(2e3, 60, r'$C=1.804(8)\\times 10^{-6}~$F')\n",
      "\n",
      "plt.savefig(\"plot2.pdf\",transparent=True,format=\"pdf\",bbox_inches='tight')"
     ],
     "language": "python",
     "metadata": {},
     "outputs": [],
     "prompt_number": 47
    },
    {
     "cell_type": "code",
     "collapsed": false,
     "input": [
      "popt"
     ],
     "language": "python",
     "metadata": {},
     "outputs": [
      {
       "output_type": "pyout",
       "prompt_number": 37,
       "text": [
        "array([  8.34540890e+01,   4.02434367e-01,   1.80350782e-06])"
       ]
      }
     ],
     "prompt_number": 37
    },
    {
     "cell_type": "code",
     "collapsed": false,
     "input": [
      "pcov"
     ],
     "language": "python",
     "metadata": {},
     "outputs": [
      {
       "output_type": "pyout",
       "prompt_number": 38,
       "text": [
        "array([[  6.05343051e-02,  -1.97434117e-04,   8.72287931e-10],\n",
        "       [ -1.97434117e-04,   2.55538438e-06,  -1.13054407e-11],\n",
        "       [  8.72287931e-10,  -1.13054407e-11,   5.17679781e-17]])"
       ]
      }
     ],
     "prompt_number": 38
    },
    {
     "cell_type": "code",
     "collapsed": false,
     "input": [
      "SE"
     ],
     "language": "python",
     "metadata": {},
     "outputs": [
      {
       "output_type": "pyout",
       "prompt_number": 39,
       "text": [
        "array([  2.46037203e-01,   1.59855697e-03,   7.19499674e-09])"
       ]
      }
     ],
     "prompt_number": 39
    },
    {
     "cell_type": "code",
     "collapsed": false,
     "input": [],
     "language": "python",
     "metadata": {},
     "outputs": []
    }
   ],
   "metadata": {}
  }
 ]
}