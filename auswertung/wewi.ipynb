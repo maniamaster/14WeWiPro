{
 "metadata": {
  "name": ""
 },
 "nbformat": 3,
 "nbformat_minor": 0,
 "worksheets": [
  {
   "cells": [
    {
     "cell_type": "code",
     "collapsed": false,
     "input": [
      "import maabara as ma\n",
      "import numpy as np\n",
      "import scipy as sp\n",
      "import sympy as sym\n",
      "import matplotlib as mpl \n",
      "import matplotlib.pyplot as plt\n",
      "import math\n",
      "\n",
      "#latex formatting:\n",
      "def latex_float(f):\n",
      "    float_str = \"{0:.2g}\".format(f)\n",
      "    if \"e\" in float_str:\n",
      "        base, exponent = float_str.split(\"e\")\n",
      "        return r\"{0} \\times 10^{{{1}}}\".format(base, int(exponent))\n",
      "    else:\n",
      "        return float_str"
     ],
     "language": "python",
     "metadata": {},
     "outputs": [],
     "prompt_number": 100
    },
    {
     "cell_type": "code",
     "collapsed": false,
     "input": [
      "###Auswertung1:\n",
      "daten=np.loadtxt(\"messung3.dat\")\n",
      "daten2=[1,1,1e-3,1,1,1,1e-3,1]*daten\n",
      "#daten2=daten2+[0,0,0,0,0,0,0.27e-3,0]\n",
      "z0=ma.uncertainty.Sheet(\"(U/B)**2\",\"Z_0^2\")\n",
      "z0.set_value(\"B\",error=0.1e-3)\n",
      "z0.set_value(\"U\",error=0.01)\n",
      "Impedanzquadrat=z0.batch(daten2,'*|U|B|*|*|*|*|*')\n",
      "f=ma.uncertainty.Sheet(\"4*pi**2*f**2\",\"\\omega^2\")\n",
      "Kreisfrequenzquadrat=f.batch(daten2,'f|*|*|*|f%|*|*|*')\n",
      "\n",
      "#Plot1:\n",
      "plt.clf()\n",
      "plt.figure(1)\n",
      "mpl.rcParams['text.usetex']=True\n",
      "mpl.rcParams['text.latex.unicode']=True\n",
      "plt.ticklabel_format(style='sci', axis='both', scilimits=(-3,3))\n",
      "\n",
      "#lineare Regression:\n",
      "m,b,tex=ma.data.linear_fit(Kreisfrequenzquadrat[:,0],Impedanzquadrat[:,0],Impedanzquadrat[:,1])\n",
      "x=np.linspace(0,max(Kreisfrequenzquadrat[:,0]+100))\n",
      "y=m.n*x+b.n\n",
      "plt.plot(x,y,\"b-\",label=\"$\"+tex+\"$\")\n",
      "plt.errorbar(Kreisfrequenzquadrat[:,0],Impedanzquadrat[:,0],Impedanzquadrat[:,1],Kreisfrequenzquadrat[:,1],'ro',markersize=3,label='Messwerte')\n",
      "plt.xlabel(r'Quadrat der Kreisfrequenz $\\omega^2~$[Hz$^2$]')\n",
      "plt.ylabel(r'Quadrat der Impedanz $Z_0^2~$[$\\Omega^2$]')\n",
      "plt.legend(loc=2)\n",
      "plt.savefig(\"plot1.pdf\",transparent=True,format=\"pdf\",bbox_inches='tight')\n"
     ],
     "language": "python",
     "metadata": {},
     "outputs": [
      {
       "output_type": "stream",
       "stream": "stdout",
       "text": [
        "results of linear_fit:\n",
        "   chi squared =  5.23350197117\n",
        "   degrees of freedom =  8\n",
        "   reduced chi squared =  0.654187746396\n"
       ]
      }
     ],
     "prompt_number": 101
    },
    {
     "cell_type": "code",
     "collapsed": false,
     "input": [
      "#Berechnung von R und L:\n",
      "L=m**(0.5)\n",
      "R=b**(0.5)\n",
      "\n",
      "L,R"
     ],
     "language": "python",
     "metadata": {},
     "outputs": [
      {
       "metadata": {},
       "output_type": "pyout",
       "prompt_number": 102,
       "text": [
        "(0.40335894796031857+/-0.0010658805067287158,\n",
        " 78.29984031755441+/-2.1367354968018692)"
       ]
      }
     ],
     "prompt_number": 102
    },
    {
     "cell_type": "code",
     "collapsed": false,
     "input": [
      "###Auswertung2':\n",
      "serie1=np.loadtxt(\"messung4.dat\")\n",
      "serie=[1,1,1e-3,1e-3]*serie1\n",
      "#serie=serie+[0,0,0,0.27e-3]\n",
      "f2=ma.uncertainty.Sheet(\"2*pi*f\",\"\\omega\")\n",
      "f2.set_value('f', error=1) \n",
      "#Berechnung von omega^2:\n",
      "omega=f2.batch(serie,'f|*|*|*')\n",
      "#Berechnung von z_o^2:\n",
      "z02=ma.uncertainty.Sheet(\"U/B\",\"Z_0\")\n",
      "z02.set_value('U',error=0.01)\n",
      "z02.set_value('B',error=0.1e-3,tex='I')\n",
      "imped=z02.batch(serie,'*|U|B|*')\n",
      "#Plotten:\n",
      "plt.clf()\n",
      "plt.figure(2)\n",
      "mpl.rcParams['text.usetex']=True\n",
      "mpl.rcParams['text.latex.unicode']=True\n",
      "plt.ticklabel_format(style='sci', axis='both', scilimits=(-3,3))\n",
      "plt.errorbar(omega[:,0],imped[:,0],imped[:,1],omega[:,1],'ro',markersize=1,label='Messwerte')\n",
      "plt.xlabel(r'Kreisfrequenz $\\omega~$[Hz]')\n",
      "plt.ylabel(r'Impedanz $Z_0~$[$\\Omega$]')\n",
      "\n",
      "\n",
      "#Theoriekurve:\n",
      "#x=np.linspace(300,2800)\n",
      "impedtheorie=((100)**2+(0.405*x-(1/(x*2.193e-6)))**2)**(0.5)\n",
      "\n",
      "#Theoriekurve fitten:\n",
      "def theo(x,a,b,c):\n",
      "    return (a**2+(b*x-(1/(x*c)))**2)**(0.5)\n",
      "popt1, pcov1=sp.optimize.curve_fit(theo,omega[:,0],imped[:,0],[88,0.4,2e-6],imped[:,1])\n",
      "variance = np.diagonal(pcov1) #Diagonalelemente der Covarianzmatrix\n",
      "SE = np.sqrt(variance) #Wurzel der Varianz = Standardabweichung\n",
      "#tex=\"r(x)=\\\\sqrt{\"+\"{:.2g}\".format(popt[0])+\"^2+\\\\left(x\\\\cdot \"+\"{:.2g}\".format(popt[1])+\"-\\\\frac{1}{x \"+\"{:.2g}\".format(popt[2])+\"}\\\\right)^2}\"\n",
      "x=np.linspace(500,3000,1000)\n",
      "plt.plot(x,theo(x,*popt1),label=\"$r(x)=\\\\sqrt{R^2+\\\\left(x\\\\cdot L-\\\\frac{1}{x\\\\cdot C}\\\\right)^2}$\")\n",
      "plt.legend(loc=2)\n",
      "plt.text(2e3, 180, r'$R=83.4(3)~\\Omega$')\n",
      "plt.text(2e3, 120, r'$L=0.402(2)~$H')\n",
      "plt.text(2e3, 60, r'$C=1.804(8)\\times 10^{-6}~$F')\n",
      "\n",
      "plt.savefig(\"plot2.pdf\",transparent=True,format=\"pdf\",bbox_inches='tight')"
     ],
     "language": "python",
     "metadata": {},
     "outputs": [],
     "prompt_number": 103
    },
    {
     "cell_type": "code",
     "collapsed": false,
     "input": [
      "popt1"
     ],
     "language": "python",
     "metadata": {},
     "outputs": [
      {
       "metadata": {},
       "output_type": "pyout",
       "prompt_number": 104,
       "text": [
        "array([  8.34541126e+01,   4.02434059e-01,   1.80350917e-06])"
       ]
      }
     ],
     "prompt_number": 104
    },
    {
     "cell_type": "code",
     "collapsed": false,
     "input": [
      "pcov1"
     ],
     "language": "python",
     "metadata": {},
     "outputs": [
      {
       "metadata": {},
       "output_type": "pyout",
       "prompt_number": 105,
       "text": [
        "array([[  6.05335585e-02,  -1.97430020e-04,   8.72249853e-10],\n",
        "       [ -1.97430020e-04,   2.55555700e-06,  -1.13043006e-11],\n",
        "       [  8.72249853e-10,  -1.13043006e-11,   5.17539708e-17]])"
       ]
      }
     ],
     "prompt_number": 105
    },
    {
     "cell_type": "code",
     "collapsed": false,
     "input": [
      "SE"
     ],
     "language": "python",
     "metadata": {},
     "outputs": [
      {
       "metadata": {},
       "output_type": "pyout",
       "prompt_number": 106,
       "text": [
        "array([  2.46035685e-01,   1.59861096e-03,   7.19402327e-09])"
       ]
      }
     ],
     "prompt_number": 106
    },
    {
     "cell_type": "code",
     "collapsed": false,
     "input": [
      "###Phasenverschiebung Serienkreis:\n",
      "phase=np.loadtxt(\"phasenverschiebung.dat\")\n",
      "plt.clf()\n",
      "plt.figure(3)\n",
      "mpl.rcParams['text.usetex']=True\n",
      "mpl.rcParams['text.latex.unicode']=True\n",
      "plt.ticklabel_format(style='sci', axis='both', scilimits=(-3,3))\n",
      "f3=ma.uncertainty.Sheet(\"2*pi*f\",\"\\omega\")\n",
      "f3.set_value('f', error=1)\n",
      "omega2=f3.batch(phase,'f|*')\n",
      "phisheet=ma.uncertainty.Sheet(\"2*pi/360*p\",'\\varphi')\n",
      "phisheet.v('p',error=1)\n",
      "phi=phisheet.batch(phase,'*|p')\n",
      "plt.errorbar(omega2[:,0],phi[:,0],phi[:,1],omega2[:,1],'ro',markersize=1,label='Messwerte')\n",
      "plt.xlabel(r'Kreisfrequenz $\\omega~$[Hz]')\n",
      "plt.ylabel(r'Phasenverschiebung $\\varphi~$[rad]')\n",
      "plt.ylim(-0.5*np.pi,0.5*np.pi)\n",
      "plt.yticks([0., np.pi/8, 2*np.pi/8, 3*np.pi/8, 4*np.pi/8, -np.pi/8, -2*np.pi/8, -3*np.pi/8, -4*np.pi/8],[\"0\", r\"$\\frac{1}{8}\\pi$\",\n",
      "                     r\"$\\frac{1}{4}\\pi$\", r\"$\\frac{3}{8}\\pi$\", r\"$\\frac{1}{2}\\pi$\", r\"$-\\frac{1}{8}\\pi$\",\n",
      "                     r\"$-\\frac{1}{4}\\pi$\", r\"$-\\frac{3}{8}\\pi$\", r\"$-\\frac{1}{2}\\pi$\"])\n",
      "\n",
      "\n",
      "#Theoriekurve fitten:\n",
      "def theophase(x,a,b,c):#x=freq. ,a=R, b=L, c=C\n",
      "    return np.arctan((x*b-1/(x*c))/a)\n",
      "popt2, pcov2=sp.optimize.curve_fit(theophase,omega2[:,0],phi[:,0],[69,0.4,1.8e-6])#,phi[:,1])\n",
      "#variance2 = np.diagonal(pcov2) #Diagonalelemente der Covarianzmatrix\n",
      "#SE2 = np.sqrt(variance2) #Wurzel der Varianz = Standardabweichung\n",
      "#Theokurve plotten:\n",
      "x=np.linspace(600,3000,1000)\n",
      "plt.plot(x,theophase(x,*popt2),label=r\"$r(x)=\\arctan\\left(\\frac{x\\cdot L-\\frac{1}{x\\cdot C}}{R}\\right)$\")\n",
      "\n",
      "plt.legend(loc=4)\n",
      "plt.savefig(\"plot3.pdf\",transparent=True,format=\"pdf\",bbox_inches='tight')"
     ],
     "language": "python",
     "metadata": {},
     "outputs": [],
     "prompt_number": 125
    },
    {
     "cell_type": "code",
     "collapsed": false,
     "input": [
      "popt2"
     ],
     "language": "python",
     "metadata": {},
     "outputs": [
      {
       "metadata": {},
       "output_type": "pyout",
       "prompt_number": 126,
       "text": [
        "array([  7.59851676e+01,   3.55042371e-01,   2.05276711e-06])"
       ]
      }
     ],
     "prompt_number": 126
    },
    {
     "cell_type": "code",
     "collapsed": false,
     "input": [
      "SE2"
     ],
     "language": "python",
     "metadata": {},
     "outputs": [
      {
       "metadata": {},
       "output_type": "pyout",
       "prompt_number": 123,
       "text": [
        "array([  7.29211149e+06,   3.40727418e+04,   1.96883823e-01])"
       ]
      }
     ],
     "prompt_number": 123
    },
    {
     "cell_type": "code",
     "collapsed": false,
     "input": [
      "### U U_C U_{L+R} ~~~~~~~  Plot 3:\n",
      "plt.clf()\n",
      "plt.figure(4)\n",
      "mpl.rcParams['text.usetex']=True\n",
      "mpl.rcParams['text.latex.unicode']=True\n",
      "plt.ticklabel_format(style='sci', axis='both', scilimits=(-3,3))\n",
      "\n",
      "\n",
      "\n",
      "spannungen=np.loadtxt(\"spannungen.dat\")\n",
      "f4=ma.uncertainty.Sheet(\"2*pi*f\",\"\\omega\")\n",
      "f4.v('f',error=1)\n",
      "omega3=f4.batch(spannungen,'f|*|*|*')\n",
      "plt.plot(omega3[:,0],spannungen[:,1],'go',markersize=4,label=r'$U$')\n",
      "plt.plot(omega3[:,0],spannungen[:,2],'bx',markersize=5,label=r'$U_{L+R}$')\n",
      "plt.plot(omega3[:,0],spannungen[:,3],'r+',markersize=5,label=r'$U_C$')\n",
      "plt.xlabel(r'Kreisfrequenz $\\omega~$[Hz]')\n",
      "plt.ylabel(r'Spannung $U~$[V]')\n",
      "plt.legend(loc=1)\n",
      "plt.xlim(500,2600)\n",
      "plt.savefig(\"plot4.pdf\",transparent=True,format=\"pdf\",bbox_inches='tight')"
     ],
     "language": "python",
     "metadata": {},
     "outputs": [],
     "prompt_number": 138
    },
    {
     "cell_type": "code",
     "collapsed": false,
     "input": [
      "omega3"
     ],
     "language": "python",
     "metadata": {},
     "outputs": [
      {
       "metadata": {},
       "output_type": "pyout",
       "prompt_number": 134,
       "text": [
        "array([[  691.15038379,     6.28318531],\n",
        "       [  929.91142546,     6.28318531],\n",
        "       [ 1262.92024674,     6.28318531],\n",
        "       [ 1520.53084434,     6.28318531],\n",
        "       [ 1884.95559215,     6.28318531],\n",
        "       [ 2199.11485751,     6.28318531],\n",
        "       [ 2513.27412287,     6.28318531],\n",
        "       [  973.89372261,     6.28318531],\n",
        "       [ 1005.30964915,     6.28318531],\n",
        "       [ 1043.00876099,     6.28318531],\n",
        "       [ 1086.99105814,     6.28318531],\n",
        "       [ 1118.40698468,     6.28318531],\n",
        "       [ 1137.2565406 ,     6.28318531],\n",
        "       [ 1174.95565244,     6.28318531],\n",
        "       [ 1206.37157898,     6.28318531],\n",
        "       [ 1244.07069082,     6.28318531],\n",
        "       [ 1281.76980266,     6.28318531],\n",
        "       [ 1313.1857292 ,     6.28318531],\n",
        "       [ 1363.45121166,     6.28318531]])"
       ]
      }
     ],
     "prompt_number": 134
    },
    {
     "cell_type": "code",
     "collapsed": false,
     "input": [
      "### Parallelkreis ~~~~~ :\n",
      "plt.clf()\n",
      "plt.figure(5)\n",
      "mpl.rcParams['text.usetex']=True\n",
      "mpl.rcParams['text.latex.unicode']=True\n",
      "plt.ticklabel_format(style='sci', axis='both', scilimits=(-3,3))\n",
      "\n",
      "parallel=np.loadtxt(\"parallelkreis.dat\")\n",
      "parallel=[1,1,1e-3]*parallel\n",
      "omegaparasheet=ma.uncertainty.Sheet(\"2*pi*f\",'\\omega')\n",
      "omegaparasheet.v('f',error=1)\n",
      "omegapara=omegaparasheet.batch(parallel,'f|*|*')\n",
      "\n",
      "impedparasheet=ma.uncertainty.Sheet(\"U/B\",'Z_0')\n",
      "impedparasheet.v('U',error=0.01)\n",
      "impedparasheet.v('U',error=0.01e-3)\n",
      "impedpara=impedparasheet.batch(parallel,'*|U|B')\n",
      "\n",
      "plt.errorbar(omegapara[:,0],impedpara[:,0],impedpara[:,1],omegapara[:,1],'ro',markersize=2,label=r'Messwerte')\n",
      "plt.xlabel(r'Kreisfrequenz $\\omega~$[Hz]')\n",
      "plt.ylabel(r'Impedanz $Z_0~$[$\\Omega$]')\n",
      "\n",
      "#Theoriekurve fitten:\n",
      "def theopara(x,a,b,c):#x=freq. ,a=R, b=L, c=C\n",
      "    return (a**2+x**2*b**2)/(a**2+(x*c*(a**2+x**2*b**2)-x*b)**2)**(0.5)\n",
      "popt3, pcov3=sp.optimize.curve_fit(theopara,omegapara[:,0],impedpara[:,0],[66,0.37,1.9e-6],impedpara[:,1])\n",
      "variance3 = np.diagonal(pcov3) #Diagonalelemente der Covarianzmatrix\n",
      "SE3 = np.sqrt(variance3) #Wurzel der Varianz = Standardabweichung\n",
      "x=np.linspace(500,3500,1000)\n",
      "plt.plot(x,theopara(x,*popt3),label=r\"$\\frac{1}{\\sqrt{\\frac{1}{R^2}+\\left(x\\cdot C-\\frac{1}{x\\cdot L}\\right)}}$\")\n",
      "\n",
      "plt.savefig(\"plot5.pdf\",transparent=True,format=\"pdf\",bbox_inches='tight')"
     ],
     "language": "python",
     "metadata": {},
     "outputs": [],
     "prompt_number": 148
    },
    {
     "cell_type": "code",
     "collapsed": false,
     "input": [
      "popt3"
     ],
     "language": "python",
     "metadata": {},
     "outputs": [
      {
       "metadata": {},
       "output_type": "pyout",
       "prompt_number": 149,
       "text": [
        "array([  6.63993975e+01,   3.76883397e-01,   1.92370476e-06])"
       ]
      }
     ],
     "prompt_number": 149
    },
    {
     "cell_type": "code",
     "collapsed": false,
     "input": [
      "SE3"
     ],
     "language": "python",
     "metadata": {},
     "outputs": [
      {
       "metadata": {},
       "output_type": "pyout",
       "prompt_number": 150,
       "text": [
        "array([  1.82208489e+00,   4.21521527e-03,   2.09021438e-08])"
       ]
      }
     ],
     "prompt_number": 150
    },
    {
     "cell_type": "code",
     "collapsed": false,
     "input": [],
     "language": "python",
     "metadata": {},
     "outputs": [],
     "prompt_number": 113
    }
   ],
   "metadata": {}
  }
 ]
}