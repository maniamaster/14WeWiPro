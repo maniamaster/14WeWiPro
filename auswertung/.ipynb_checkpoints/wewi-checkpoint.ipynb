{
 "metadata": {
  "name": ""
 },
 "nbformat": 3,
 "nbformat_minor": 0,
 "worksheets": [
  {
   "cells": [
    {
     "cell_type": "code",
     "collapsed": false,
     "input": [
      "import maabara as ma\n",
      "import numpy as np\n",
      "import scipy as sp\n",
      "import sympy as sym\n",
      "import matplotlib as mpl \n",
      "import matplotlib.pyplot as plt\n",
      "import math\n",
      "\n",
      "#latex formatting:\n",
      "def latex_float(f):\n",
      "    float_str = \"{0:.2g}\".format(f)\n",
      "    if \"e\" in float_str:\n",
      "        base, exponent = float_str.split(\"e\")\n",
      "        return r\"{0} \\times 10^{{{1}}}\".format(base, int(exponent))\n",
      "    else:\n",
      "        return float_str"
     ],
     "language": "python",
     "metadata": {},
     "outputs": [],
     "prompt_number": 113
    },
    {
     "cell_type": "code",
     "collapsed": false,
     "input": [
      "###Auswertung1:\n",
      "daten=np.loadtxt(\"messung3.dat\")\n",
      "daten2=[1,1,1e-3,1,1,1,1e-3,1]*daten\n",
      "z0=ma.uncertainty.Sheet(\"(U/B)**2\",\"Z_0^2\")\n",
      "Impedanzquadrat=z0.batch(daten2,'*|U|B|*|*|U%|B%|*')\n",
      "f=ma.uncertainty.Sheet(\"4*pi**2*f**2\",\"\\omega^2\")\n",
      "Kreisfrequenzquadrat=f.batch(daten2,'f|*|*|*|f%|*|*|*')\n",
      "\n",
      "#Plot1:\n",
      "plt.clf()\n",
      "plt.figure(1)\n",
      "mpl.rcParams['text.usetex']=True\n",
      "mpl.rcParams['text.latex.unicode']=True\n",
      "plt.ticklabel_format(style='sci', axis='both', scilimits=(-3,3))\n",
      "\n",
      "#lineare Regression:\n",
      "m,b,tex=ma.data.linear_fit(Kreisfrequenzquadrat[:,0],Impedanzquadrat[:,0],Impedanzquadrat[:,1])\n",
      "x=np.linspace(0,max(Kreisfrequenzquadrat[:,0]+100))\n",
      "y=m.n*x+b.n\n",
      "plt.plot(x,y,\"b-\",label=\"$\"+tex+\"$\")\n",
      "plt.errorbar(Kreisfrequenzquadrat[:,0],Impedanzquadrat[:,0],Kreisfrequenzquadrat[:,1],Impedanzquadrat[:,1],'ro',markersize=3,label='Messwerte')\n",
      "plt.xlabel(r'Quadrat der Kreisfrequenz $\\omega^2~$[Hz$^2$]')\n",
      "plt.ylabel(r'Quadrat der Impedanz $Z_0^2~$[$\\Omega^2$]')\n",
      "plt.legend(loc=2)\n",
      "plt.savefig(\"plot1.pdf\",transparent=True,format=\"pdf\",bbox_inches='tight')\n"
     ],
     "language": "python",
     "metadata": {},
     "outputs": [
      {
       "output_type": "stream",
       "stream": "stdout",
       "text": [
        "results of linear_fit:\n",
        "   chi squared =  0.584947441398\n",
        "   degrees of freedom =  8\n",
        "   reduced chi squared =  0.0731184301748\n"
       ]
      }
     ],
     "prompt_number": 114
    },
    {
     "cell_type": "code",
     "collapsed": false,
     "input": [
      "#Berechnung von R und L:\n",
      "L=m**(0.5)\n",
      "R=b**(0.5)\n",
      "\n",
      "L,R"
     ],
     "language": "python",
     "metadata": {},
     "outputs": [
      {
       "metadata": {},
       "output_type": "pyout",
       "prompt_number": 115,
       "text": [
        "(0.40511949894262034+/-0.0036402446776491798,\n",
        " 74.41912285977088+/-12.933861794976732)"
       ]
      }
     ],
     "prompt_number": 115
    },
    {
     "cell_type": "code",
     "collapsed": false,
     "input": [
      "###Auswertung2':\n",
      "serie1=np.loadtxt(\"messung4.dat\")\n",
      "serie=[1,1,1e-3,1e-3]*serie1\n",
      "f2=ma.uncertainty.Sheet(\"2*pi*f\",\"\\omega\")\n",
      "f2.set_value('f', error=1) \n",
      "#Berechnung von omega^2:\n",
      "omega=f2.batch(serie,'f|*|*|*')\n",
      "#Berechnung von z_o^2:\n",
      "z02=ma.uncertainty.Sheet(\"U/B\",\"Z_0\")\n",
      "z02.set_value('U',error=0.1)\n",
      "imped=z02.batch(serie,'*|U|B|B%')\n",
      "#Plotten:\n",
      "plt.clf()\n",
      "plt.figure(2)\n",
      "mpl.rcParams['text.usetex']=True\n",
      "mpl.rcParams['text.latex.unicode']=True\n",
      "plt.ticklabel_format(style='sci', axis='both', scilimits=(-3,3))\n",
      "plt.errorbar(omega[:,0],imped[:,0],omega[:,1],imped[:,1],'ro',markersize=1,label='Messwerte')\n",
      "plt.xlabel(r'Impedanz $\\omega~$[Hz]')\n",
      "plt.ylabel(r'Kreisfrequenz $Z_0~$[$\\Omega$]')\n",
      "\n",
      "\n",
      "#Theoriekurve:\n",
      "#x=np.linspace(300,2800)\n",
      "impedtheorie=((100)**2+(0.405*x-(1/(x*2.193e-6)))**2)**(0.5)\n",
      "\n",
      "#Theoriekurve fitten:\n",
      "def theo(x,a,b,c):\n",
      "    return (a**2+(b*x-(1/(x*c)))**2)**(0.5)\n",
      "popt, pcov=sp.optimize.curve_fit(theo,omega[:,0],imped[:,0],[88,0.4,2e-6],imped[:,1])\n",
      "#tex=\"r(x)=\\\\sqrt{\"+\"{:.2g}\".format(popt[0])+\"^2+\\\\left(x\\\\cdot \"+\"{:.2g}\".format(popt[1])+\"-\\\\frac{1}{x \"+\"{:.2g}\".format(popt[2])+\"}\\\\right)^2}\"\n",
      "x=np.linspace(500,3000,1000)\n",
      "plt.plot(x,theo(x,*popt),label=\"$r(x)=\\\\sqrt{\"+latex_float(popt[0])+\"^2+\\\\left(x\\\\cdot \"+latex_float(popt[1])+\"-\\\\frac{1}{x\\\\cdot \"+latex_float(popt[2])+\"}\\\\right)^2}$\")\n",
      "plt.legend(loc=2)\n",
      "plt.savefig(\"plot2.pdf\",transparent=True,format=\"pdf\",bbox_inches='tight')"
     ],
     "language": "python",
     "metadata": {},
     "outputs": [],
     "prompt_number": 122
    },
    {
     "cell_type": "code",
     "collapsed": false,
     "input": [],
     "language": "python",
     "metadata": {},
     "outputs": [
      {
       "metadata": {},
       "output_type": "pyout",
       "prompt_number": 101,
       "text": [
        "array([  8.33462233e+01,   4.03554060e-01,   1.79710308e-06])"
       ]
      }
     ],
     "prompt_number": 101
    },
    {
     "cell_type": "code",
     "collapsed": false,
     "input": [],
     "language": "python",
     "metadata": {},
     "outputs": [
      {
       "metadata": {},
       "output_type": "pyout",
       "prompt_number": 44,
       "text": [
        "array([[ 542.22222222,   10.60812123],\n",
        "       [ 240.04914005,    4.8044017 ],\n",
        "       [ 109.2760181 ,    2.06753311],\n",
        "       [ 258.99470899,    4.8886837 ],\n",
        "       [ 468.89952153,   10.16998919],\n",
        "       [ 641.17647059,   14.16954483],\n",
        "       [ 797.56097561,   15.30619044],\n",
        "       [ 198.37398374,    3.81255696],\n",
        "       [ 169.56521739,    3.17311075],\n",
        "       [ 138.85714286,    2.60808712],\n",
        "       [ 109.65909091,    2.08203489],\n",
        "       [  95.7       ,    1.8288175 ],\n",
        "       [  88.30083565,    1.67474728],\n",
        "       [  83.73121132,    1.53809427],\n",
        "       [  86.996337  ,    1.63488003],\n",
        "       [ 100.20876827,    1.88453242],\n",
        "       [ 117.90499391,    2.22914488],\n",
        "       [ 135.2367688 ,    2.49648344],\n",
        "       [ 162.2296173 ,    3.17094839]])"
       ]
      }
     ],
     "prompt_number": 44
    },
    {
     "cell_type": "code",
     "collapsed": false,
     "input": [],
     "language": "python",
     "metadata": {},
     "outputs": []
    }
   ],
   "metadata": {}
  }
 ]
}